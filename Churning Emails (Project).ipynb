{
 "cells": [
  {
   "cell_type": "markdown",
   "metadata": {},
   "source": [
    "# Project - Churning Emails\n",
    "\n",
    "Description: MBOX files are in a standard format for a file containing multiple mail messages. The lines which start with \"From \" separate the messages and the lines which start with \"From:\" are part of the messages."
   ]
  },
  {
   "cell_type": "markdown",
   "metadata": {},
   "source": [
    "# Counting number of lines"
   ]
  },
  {
   "cell_type": "code",
   "execution_count": 2,
   "metadata": {},
   "outputs": [],
   "source": [
    "# Alternative - 1:\n",
    "    \n",
    "fhand = open('/cxldata/datasets/project/mbox-short.txt')\n",
    "inp = fhand.readlines() # Using readlines() method of open command\n",
    "fhand.close()\n",
    "\n",
    "def number_of_lines():\n",
    "    count = len(inp)\n",
    "    return count"
   ]
  },
  {
   "cell_type": "code",
   "execution_count": 3,
   "metadata": {},
   "outputs": [
    {
     "data": {
      "text/plain": [
       "1910"
      ]
     },
     "execution_count": 3,
     "metadata": {},
     "output_type": "execute_result"
    }
   ],
   "source": [
    "number_of_lines()"
   ]
  },
  {
   "cell_type": "code",
   "execution_count": 4,
   "metadata": {},
   "outputs": [],
   "source": [
    "# Alternative - 2:\n",
    "\n",
    "def number_of_lines():\n",
    "    \n",
    "    fhand = open('/cxldata/datasets/project/mbox-short.txt')\n",
    "    inp = fhand.read()\n",
    "    lines = inp.splitlines() # Uses splitlines() method of strings\n",
    "    fhand.close()\n",
    "    \n",
    "    return len(lines)"
   ]
  },
  {
   "cell_type": "code",
   "execution_count": 5,
   "metadata": {},
   "outputs": [
    {
     "data": {
      "text/plain": [
       "1910"
      ]
     },
     "execution_count": 5,
     "metadata": {},
     "output_type": "execute_result"
    }
   ],
   "source": [
    "number_of_lines()"
   ]
  },
  {
   "cell_type": "markdown",
   "metadata": {},
   "source": [
    "# Counting number of lines starting with word 'Subject:'"
   ]
  },
  {
   "cell_type": "code",
   "execution_count": 6,
   "metadata": {},
   "outputs": [],
   "source": [
    "def count_number_of_lines():\n",
    "    hand = open('/cxldata/datasets/project/mbox-short.txt')\n",
    "    counter = 0\n",
    "\n",
    "    for line in hand:\n",
    "        line = line.rstrip()\n",
    "        if line.startswith('Subject:'):\n",
    "            counter = counter + 1\n",
    "    hand.close()\n",
    "    return counter"
   ]
  },
  {
   "cell_type": "code",
   "execution_count": 7,
   "metadata": {},
   "outputs": [
    {
     "data": {
      "text/plain": [
       "27"
      ]
     },
     "execution_count": 7,
     "metadata": {},
     "output_type": "execute_result"
    }
   ],
   "source": [
    "count_number_of_lines()"
   ]
  },
  {
   "cell_type": "markdown",
   "metadata": {},
   "source": [
    "# Finding Average Spam Confidence"
   ]
  },
  {
   "cell_type": "code",
   "execution_count": 9,
   "metadata": {},
   "outputs": [],
   "source": [
    "def average_spam_confidence():\n",
    "    filehandle = open('/cxldata/datasets/project/mbox-short.txt')\n",
    "    counter = 0\n",
    "    total = 0\n",
    "    \n",
    "    for line in filehandle:\n",
    "        if line.startswith('X-DSPAM-Confidence:'):\n",
    "            counter = counter + 1\n",
    "            x = line.split(':')\n",
    "            total = total + float(x[1])\n",
    "    \n",
    "    average = total/counter\n",
    "    filehandle.close()\n",
    "    return average"
   ]
  },
  {
   "cell_type": "code",
   "execution_count": 10,
   "metadata": {},
   "outputs": [
    {
     "data": {
      "text/plain": [
       "0.7507185185185187"
      ]
     },
     "execution_count": 10,
     "metadata": {},
     "output_type": "execute_result"
    }
   ],
   "source": [
    "average_spam_confidence()"
   ]
  },
  {
   "cell_type": "markdown",
   "metadata": {},
   "source": [
    "# Finding the day of week on which email was sent"
   ]
  },
  {
   "cell_type": "code",
   "execution_count": 11,
   "metadata": {},
   "outputs": [],
   "source": [
    "def find_email_sent_days():\n",
    "    filehandle = open('/cxldata/datasets/project/mbox-short.txt')\n",
    "    daycounter = dict() # or {}\n",
    "        \n",
    "    for line in filehandle:\n",
    "        if line.startswith('From '):\n",
    "            words = line.split()\n",
    "            daycounter[words[2]] = daycounter.get(words[2], 0) + 1\n",
    "    filehandle.close()\n",
    "    return daycounter"
   ]
  },
  {
   "cell_type": "code",
   "execution_count": 12,
   "metadata": {},
   "outputs": [
    {
     "data": {
      "text/plain": [
       "{'Sat': 1, 'Fri': 20, 'Thu': 6}"
      ]
     },
     "execution_count": 12,
     "metadata": {},
     "output_type": "execute_result"
    }
   ],
   "source": [
    "find_email_sent_days()"
   ]
  },
  {
   "cell_type": "markdown",
   "metadata": {},
   "source": [
    "# Counting number of messages from each email address"
   ]
  },
  {
   "cell_type": "code",
   "execution_count": 13,
   "metadata": {},
   "outputs": [],
   "source": [
    "def count_message_from_email():\n",
    "    filehandle = open('/cxldata/datasets/project/mbox-short.txt')\n",
    "    emailcounter = dict() # or {}\n",
    "        \n",
    "    for line in filehandle:\n",
    "        if line.startswith('From'): \n",
    "            # Actually it should consider 'From '(with space) else it is duplication of email IDs\n",
    "            words = line.split()\n",
    "            emailcounter[words[1]] = emailcounter.get(words[1], 0) + 1\n",
    "    filehandle.close()\n",
    "    return emailcounter"
   ]
  },
  {
   "cell_type": "code",
   "execution_count": 14,
   "metadata": {},
   "outputs": [
    {
     "data": {
      "text/plain": [
       "{'stephen.marquard@uct.ac.za': 4,\n",
       " 'louis@media.berkeley.edu': 6,\n",
       " 'zqian@umich.edu': 8,\n",
       " 'rjlowe@iupui.edu': 4,\n",
       " 'cwen@iupui.edu': 10,\n",
       " 'gsilver@umich.edu': 6,\n",
       " 'wagnermr@iupui.edu': 2,\n",
       " 'antranig@caret.cam.ac.uk': 2,\n",
       " 'gopal.ramasammycook@gmail.com': 2,\n",
       " 'david.horwitz@uct.ac.za': 8,\n",
       " 'ray@media.berkeley.edu': 2}"
      ]
     },
     "execution_count": 14,
     "metadata": {},
     "output_type": "execute_result"
    }
   ],
   "source": [
    "count_message_from_email()"
   ]
  },
  {
   "cell_type": "markdown",
   "metadata": {},
   "source": [
    "# Counting number of messages from each domain"
   ]
  },
  {
   "cell_type": "code",
   "execution_count": 15,
   "metadata": {},
   "outputs": [],
   "source": [
    "def count_message_from_domain():\n",
    "    filehandle = open('/cxldata/datasets/project/mbox-short.txt')\n",
    "    domaincounter = dict() # or {}\n",
    "    import re\n",
    "    \n",
    "    for line in filehandle:\n",
    "        if line.startswith('From'): \n",
    "            # Actually it should consider 'From '(with space) else it is duplication of email IDs\n",
    "#             words = line.split()\n",
    "#             emailid = words[1]\n",
    "            domains = re.findall('@(\\S+)', line)\n",
    "            for domain in domains:\n",
    "                                 domaincounter[domain] = domaincounter.get(domain, 0) + 1\n",
    "    \n",
    "    filehandle.close()\n",
    "    return domaincounter"
   ]
  },
  {
   "cell_type": "code",
   "execution_count": 16,
   "metadata": {},
   "outputs": [
    {
     "data": {
      "text/plain": [
       "{'uct.ac.za': 12,\n",
       " 'media.berkeley.edu': 8,\n",
       " 'umich.edu': 14,\n",
       " 'iupui.edu': 16,\n",
       " 'caret.cam.ac.uk': 2,\n",
       " 'gmail.com': 2}"
      ]
     },
     "execution_count": 16,
     "metadata": {},
     "output_type": "execute_result"
    }
   ],
   "source": [
    "count_message_from_domain()"
   ]
  },
  {
   "cell_type": "markdown",
   "metadata": {},
   "source": [
    "_________________________\n",
    "Project prepared by:\n",
    "\n",
    "**Dhyey Kotecha**\n",
    "\n",
    "Email: dhyeygkotecha@gmail.com"
   ]
  }
 ],
 "metadata": {
  "kernelspec": {
   "display_name": "Python 3",
   "language": "python",
   "name": "python3"
  },
  "language_info": {
   "codemirror_mode": {
    "name": "ipython",
    "version": 3
   },
   "file_extension": ".py",
   "mimetype": "text/x-python",
   "name": "python",
   "nbconvert_exporter": "python",
   "pygments_lexer": "ipython3",
   "version": "3.6.8"
  },
  "toc": {
   "base_numbering": 1,
   "nav_menu": {},
   "number_sections": true,
   "sideBar": true,
   "skip_h1_title": false,
   "title_cell": "Table of Contents",
   "title_sidebar": "Contents",
   "toc_cell": false,
   "toc_position": {},
   "toc_section_display": true,
   "toc_window_display": false
  }
 },
 "nbformat": 4,
 "nbformat_minor": 2
}

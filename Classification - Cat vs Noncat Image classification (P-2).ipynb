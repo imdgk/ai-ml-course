{
 "cells": [
  {
   "cell_type": "markdown",
   "metadata": {
    "collapsed": true
   },
   "source": [
    "# Project - Cat vs Non-cat Classifier\n",
    "\n",
    "## Description\n",
    "Dataset is located at `/cxldata/datasets/project/cat-non-cat`\n",
    "\n",
    "Dataset is in .h5 file. Import h5py to interact with a dataset that is stored in an H5 file. It contains\n",
    "\n",
    "+ train_catvnoncat.h5 - a training set of 209 images labeled as cat (y=1) or non-cat (y=0)\n",
    "+ test_catvnoncat.h5 - a test set of 50 images labeled as cat or non-cat\n",
    "+ Each image is of shape (64, 64, 3) where 3 is for the 3 channels (RGB). Thus, each image is square (height = 64 pixels) and (width = 64 pixels)\n",
    "\n",
    "## Guidelines\n",
    "Build and train a **neural network** to classify the given image as cat or non-cat. **You can either use logistic regression or CNN.**\n",
    "\n",
    "After you are done, save your notebook as `cat_vs_noncat_classifier.ipynb` inside `cloudxlab_jupyter_notebooks` directory in your home folder on CloudxLab."
   ]
  },
  {
   "cell_type": "code",
   "execution_count": 32,
   "metadata": {},
   "outputs": [],
   "source": [
    "# Importing dependencies\n",
    "\n",
    "import numpy as np\n",
    "import matplotlib.pyplot as plt\n",
    "import h5py\n",
    "from PIL import Image\n",
    "%matplotlib inline\n",
    "import tensorflow as tf"
   ]
  },
  {
   "cell_type": "code",
   "execution_count": 33,
   "metadata": {},
   "outputs": [],
   "source": [
    "# Function to reset graph and give default seed\n",
    "\n",
    "def reset_graph(seed=20):\n",
    "    tf.reset_default_graph()\n",
    "    tf.set_random_seed(seed)\n",
    "    np.random.seed(seed)"
   ]
  },
  {
   "cell_type": "markdown",
   "metadata": {},
   "source": [
    "# Importing dataset"
   ]
  },
  {
   "cell_type": "code",
   "execution_count": 34,
   "metadata": {},
   "outputs": [],
   "source": [
    "# Training dataset - composed of 209 images of dimension 64x64 with 3 color channels (RGB)\n",
    "train_dataset = h5py.File('/cxldata/datasets/project/cat-non-cat/train_catvnoncat.h5', 'r')\n",
    "train_set_x_orig = np.array(train_dataset['train_set_x'][:])\n",
    "train_set_y_orig = np.array(train_dataset['train_set_y'][:])\n",
    "\n",
    "# Test dataset - composed of 50 images of dimension 64x64 with 3 color channels (RGB)\n",
    "test_dataset = h5py.File('/cxldata/datasets/project/cat-non-cat/test_catvnoncat.h5', 'r')\n",
    "test_set_x_orig = np.array(test_dataset['test_set_x'][:])\n",
    "test_set_y_orig = np.array(test_dataset['test_set_y'][:])\n",
    "\n",
    "# Listing classes - 0 for non-cat and 1 for cat\n",
    "classes = np.array(test_dataset['list_classes'][:])\n",
    "\n",
    "# Converting labels to two dimensional array\n",
    "train_set_y = train_set_y_orig.reshape(1, train_set_y_orig.shape[0])\n",
    "test_set_y = test_set_y_orig.reshape(1, test_set_y_orig.shape[0])"
   ]
  },
  {
   "cell_type": "code",
   "execution_count": 57,
   "metadata": {},
   "outputs": [
    {
     "name": "stdout",
     "output_type": "stream",
     "text": [
      "[1]\n",
      "cat\n"
     ]
    },
    {
     "data": {
      "image/png": "[encoded data removed]",
      "text/plain": [
       "<Figure size 432x288 with 1 Axes>"
      ]
     },
     "metadata": {
      "needs_background": "light"
     },
     "output_type": "display_data"
    }
   ],
   "source": [
    "# Visualise a sample image\n",
    "\n",
    "index = 50 # change this to see a different image\n",
    "plt.imshow(train_set_x_orig[index])\n",
    "plt.axis('off')\n",
    "y = train_set_y[:,index]\n",
    "y_class = classes[np.squeeze(train_set_y[:, index])].decode('utf-8')\n",
    "print(y)\n",
    "print(y_class)"
   ]
  },
  {
   "cell_type": "markdown",
   "metadata": {},
   "source": [
    "# Defining Convolutional Neural Network"
   ]
  },
  {
   "cell_type": "code",
   "execution_count": 52,
   "metadata": {},
   "outputs": [],
   "source": [
    "# Defining parameters for training CNN\n",
    "\n",
    "height = 64\n",
    "width = 64\n",
    "channels = 3 \n",
    "n_inputs = height * width # 4096\n",
    "\n",
    "conv1_fmaps = 32\n",
    "conv1_ksize = 3\n",
    "conv1_stride = 1\n",
    "conv1_pad = \"SAME\"\n",
    "\n",
    "conv2_fmaps = 64\n",
    "conv2_ksize = 3\n",
    "conv2_stride = 2\n",
    "conv2_pad = \"SAME\"\n",
    "\n",
    "pool3_fmaps = conv2_fmaps\n",
    "\n",
    "n_fc1 = 64\n",
    "n_outputs = 2"
   ]
  },
  {
   "cell_type": "code",
   "execution_count": 53,
   "metadata": {},
   "outputs": [],
   "source": [
    "# Defining CNN\n",
    "\n",
    "reset_graph()\n",
    "\n",
    "with tf.name_scope(\"inputs\"):\n",
    "    X = tf.placeholder(tf.float32, shape=[None, height, width, channels], name=\"X\") # None, 4096\n",
    "    y = tf.placeholder(tf.int64, shape=[None], name=\"y\") # [None]\n",
    "\n",
    "conv1 = tf.layers.conv2d(X, filters=conv1_fmaps, kernel_size=conv1_ksize,\n",
    "                         strides=conv1_stride, padding=conv1_pad,\n",
    "                         activation=tf.nn.selu, name=\"conv1\")\n",
    "\n",
    "# conv1 -> None, 64, 64, 32\n",
    "conv2 = tf.layers.conv2d(conv1, filters=conv2_fmaps, kernel_size=conv2_ksize,\n",
    "                         strides=conv2_stride, padding=conv2_pad,\n",
    "                         activation=tf.nn.selu, name=\"conv2\")\n",
    "\n",
    "\n",
    "# conv2 -> None, 32, 32, 64\n",
    "with tf.name_scope(\"pool3\"):\n",
    "    pool3 = tf.nn.max_pool(conv2, ksize=[1, 2, 2, 1], strides=[1, 2, 2, 1], padding=\"VALID\")\n",
    "    # pool3 -> None, 16, 16, 64\n",
    "    pool3_flat = tf.reshape(pool3, shape=[-1, pool3_fmaps * 16 * 16]) # old -1, pool3_fmaps * 7 * 7\n",
    "    #pool3_flat -> None, 64*7*7\n",
    "\n",
    "with tf.name_scope(\"fc1\"):\n",
    "    fc1 = tf.layers.dense(pool3_flat, n_fc1, activation=tf.nn.selu, name=\"fc1\")\n",
    "\n",
    "with tf.name_scope(\"output\"):\n",
    "    logits = tf.layers.dense(fc1, n_outputs, name=\"output\")\n",
    "\n",
    "with tf.name_scope(\"train\"):\n",
    "    xentropy = tf.nn.sparse_softmax_cross_entropy_with_logits(logits=logits, labels=y)\n",
    "    loss = tf.reduce_mean(xentropy, name='loss')\n",
    "    optimizer = tf.train.AdamOptimizer()\n",
    "    training_op = optimizer.minimize(loss)\n",
    "\n",
    "with tf.name_scope(\"eval\"):\n",
    "    correct = tf.nn.in_top_k(logits, y, 1)\n",
    "    accuracy = tf.reduce_mean(tf.cast(correct, tf.float32))\n",
    "\n",
    "with tf.name_scope(\"init\"):\n",
    "    init = tf.global_variables_initializer()"
   ]
  },
  {
   "cell_type": "code",
   "execution_count": 56,
   "metadata": {
    "scrolled": false
   },
   "outputs": [
    {
     "name": "stdout",
     "output_type": "stream",
     "text": [
      "0 Train accuracy: 0.34449762 Test accuracy: 0.66\n",
      "1 Train accuracy: 0.3492823 Test accuracy: 0.66\n",
      "2 Train accuracy: 0.6555024 Test accuracy: 0.34\n",
      "3 Train accuracy: 0.6555024 Test accuracy: 0.34\n",
      "4 Train accuracy: 0.6555024 Test accuracy: 0.34\n",
      "5 Train accuracy: 0.6555024 Test accuracy: 0.34\n",
      "6 Train accuracy: 0.6555024 Test accuracy: 0.34\n",
      "7 Train accuracy: 0.6363636 Test accuracy: 0.44\n",
      "8 Train accuracy: 0.40669855 Test accuracy: 0.64\n",
      "9 Train accuracy: 0.38277513 Test accuracy: 0.64\n",
      "10 Train accuracy: 0.3923445 Test accuracy: 0.66\n",
      "11 Train accuracy: 0.40669855 Test accuracy: 0.68\n",
      "12 Train accuracy: 0.5980861 Test accuracy: 0.34\n",
      "13 Train accuracy: 0.6602871 Test accuracy: 0.36\n",
      "14 Train accuracy: 0.5980861 Test accuracy: 0.54\n",
      "15 Train accuracy: 0.71291864 Test accuracy: 0.6\n",
      "16 Train accuracy: 0.7320574 Test accuracy: 0.48\n",
      "17 Train accuracy: 0.79425836 Test accuracy: 0.56\n",
      "18 Train accuracy: 0.7799043 Test accuracy: 0.64\n",
      "19 Train accuracy: 0.7751196 Test accuracy: 0.66\n",
      "20 Train accuracy: 0.8277512 Test accuracy: 0.64\n",
      "21 Train accuracy: 0.7799043 Test accuracy: 0.54\n",
      "22 Train accuracy: 0.79425836 Test accuracy: 0.54\n",
      "23 Train accuracy: 0.84689 Test accuracy: 0.64\n",
      "24 Train accuracy: 0.8181818 Test accuracy: 0.72\n"
     ]
    }
   ],
   "source": [
    "# Running session and showing accuracy\n",
    "\n",
    "n_epochs = 25\n",
    "\n",
    "with tf.Session() as sess:\n",
    "    init.run()\n",
    "    for epoch in range(n_epochs):\n",
    "        sess.run(training_op, feed_dict={X: train_set_x_orig, y: train_set_y_orig})\n",
    "        acc_train = accuracy.eval(feed_dict={X: train_set_x_orig, y: train_set_y_orig})\n",
    "        acc_test = accuracy.eval(feed_dict={X: test_set_x_orig, y: test_set_y_orig})\n",
    "        print(epoch, \"Train accuracy:\", acc_train, \"Test accuracy:\", acc_test)"
   ]
  },
  {
   "cell_type": "markdown",
   "metadata": {},
   "source": [
    "<div class=\"alert alert-block alert-info\" style=\"margin-top: 0px\">\n",
    "\n",
    "Project prepared by:\n",
    "\n",
    "**Dhyey Kotecha**\n",
    "\n",
    "Email: dhyeygkotecha@gmail.com\n",
    "\n",
    "(Aug 31, 2020)"
   ]
  }
 ],
 "metadata": {
  "kernelspec": {
   "display_name": "Python 3",
   "language": "python",
   "name": "python3"
  },
  "language_info": {
   "codemirror_mode": {
    "name": "ipython",
    "version": 3
   },
   "file_extension": ".py",
   "mimetype": "text/x-python",
   "name": "python",
   "nbconvert_exporter": "python",
   "pygments_lexer": "ipython3",
   "version": "3.6.8"
  },
  "toc": {
   "base_numbering": 1,
   "nav_menu": {},
   "number_sections": true,
   "sideBar": true,
   "skip_h1_title": false,
   "title_cell": "Table of Contents",
   "title_sidebar": "Contents",
   "toc_cell": false,
   "toc_position": {},
   "toc_section_display": true,
   "toc_window_display": false
  }
 },
 "nbformat": 4,
 "nbformat_minor": 2
}

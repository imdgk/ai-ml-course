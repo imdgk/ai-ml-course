{
 "cells": [
  {
   "cell_type": "markdown",
   "metadata": {},
   "source": [
    "# End to End Project - Estimate wine quality\n",
    "\n",
    "## Problem Statement / Objective\n",
    "Estimate the quality of red wine, represented as score between 0 (very bad) and 10 (very excellent), based on the given set of attributes\n",
    "\n",
    "## Dataset\n",
    "This dataset is taken from the UCI machine learning repository, https://archive.ics.uci.edu/ml/datasets/wine+quality\n",
    "\n",
    "## Methodology used\n",
    "Supervised Regression analysis"
   ]
  },
  {
   "cell_type": "code",
   "execution_count": 1,
   "metadata": {},
   "outputs": [],
   "source": [
    "# Importing dependencies\n",
    "\n",
    "import numpy as np\n",
    "import pandas as pd\n",
    "import matplotlib.pyplot as plt"
   ]
  },
  {
   "cell_type": "markdown",
   "metadata": {},
   "source": [
    "# Get the data"
   ]
  },
  {
   "cell_type": "code",
   "execution_count": 2,
   "metadata": {},
   "outputs": [],
   "source": [
    "# Importing the dataset\n",
    "\n",
    "wine = pd.read_csv('/cxldata/datasets/project/wine_quality_red.csv')"
   ]
  },
  {
   "cell_type": "code",
   "execution_count": 3,
   "metadata": {},
   "outputs": [
    {
     "data": {
      "text/html": [
       "<div>\n",
       "<style scoped>\n",
       "    .dataframe tbody tr th:only-of-type {\n",
       "        vertical-align: middle;\n",
       "    }\n",
       "\n",
       "    .dataframe tbody tr th {\n",
       "        vertical-align: top;\n",
       "    }\n",
       "\n",
       "    .dataframe thead th {\n",
       "        text-align: right;\n",
       "    }\n",
       "</style>\n",
       "<table border=\"1\" class=\"dataframe\">\n",
       "  <thead>\n",
       "    <tr style=\"text-align: right;\">\n",
       "      <th></th>\n",
       "      <th>fixed acidity</th>\n",
       "      <th>volatile acidity</th>\n",
       "      <th>citric acid</th>\n",
       "      <th>residual sugar</th>\n",
       "      <th>chlorides</th>\n",
       "      <th>free sulfur dioxide</th>\n",
       "      <th>total sulfur dioxide</th>\n",
       "      <th>density</th>\n",
       "      <th>pH</th>\n",
       "      <th>sulphates</th>\n",
       "      <th>alcohol</th>\n",
       "      <th>quality</th>\n",
       "    </tr>\n",
       "  </thead>\n",
       "  <tbody>\n",
       "    <tr>\n",
       "      <td>0</td>\n",
       "      <td>7.4</td>\n",
       "      <td>0.70</td>\n",
       "      <td>0.00</td>\n",
       "      <td>1.9</td>\n",
       "      <td>0.076</td>\n",
       "      <td>11.0</td>\n",
       "      <td>34.0</td>\n",
       "      <td>0.9978</td>\n",
       "      <td>3.51</td>\n",
       "      <td>0.56</td>\n",
       "      <td>9.4</td>\n",
       "      <td>5</td>\n",
       "    </tr>\n",
       "    <tr>\n",
       "      <td>1</td>\n",
       "      <td>7.8</td>\n",
       "      <td>0.88</td>\n",
       "      <td>0.00</td>\n",
       "      <td>2.6</td>\n",
       "      <td>0.098</td>\n",
       "      <td>25.0</td>\n",
       "      <td>67.0</td>\n",
       "      <td>0.9968</td>\n",
       "      <td>3.20</td>\n",
       "      <td>0.68</td>\n",
       "      <td>9.8</td>\n",
       "      <td>5</td>\n",
       "    </tr>\n",
       "    <tr>\n",
       "      <td>2</td>\n",
       "      <td>7.8</td>\n",
       "      <td>0.76</td>\n",
       "      <td>0.04</td>\n",
       "      <td>2.3</td>\n",
       "      <td>0.092</td>\n",
       "      <td>15.0</td>\n",
       "      <td>54.0</td>\n",
       "      <td>0.9970</td>\n",
       "      <td>3.26</td>\n",
       "      <td>0.65</td>\n",
       "      <td>9.8</td>\n",
       "      <td>5</td>\n",
       "    </tr>\n",
       "    <tr>\n",
       "      <td>3</td>\n",
       "      <td>11.2</td>\n",
       "      <td>0.28</td>\n",
       "      <td>0.56</td>\n",
       "      <td>1.9</td>\n",
       "      <td>0.075</td>\n",
       "      <td>17.0</td>\n",
       "      <td>60.0</td>\n",
       "      <td>0.9980</td>\n",
       "      <td>3.16</td>\n",
       "      <td>0.58</td>\n",
       "      <td>9.8</td>\n",
       "      <td>6</td>\n",
       "    </tr>\n",
       "    <tr>\n",
       "      <td>4</td>\n",
       "      <td>7.4</td>\n",
       "      <td>0.70</td>\n",
       "      <td>0.00</td>\n",
       "      <td>1.9</td>\n",
       "      <td>0.076</td>\n",
       "      <td>11.0</td>\n",
       "      <td>34.0</td>\n",
       "      <td>0.9978</td>\n",
       "      <td>3.51</td>\n",
       "      <td>0.56</td>\n",
       "      <td>9.4</td>\n",
       "      <td>5</td>\n",
       "    </tr>\n",
       "  </tbody>\n",
       "</table>\n",
       "</div>"
      ],
      "text/plain": [
       "   fixed acidity  volatile acidity  citric acid  residual sugar  chlorides  \\\n",
       "0            7.4              0.70         0.00             1.9      0.076   \n",
       "1            7.8              0.88         0.00             2.6      0.098   \n",
       "2            7.8              0.76         0.04             2.3      0.092   \n",
       "3           11.2              0.28         0.56             1.9      0.075   \n",
       "4            7.4              0.70         0.00             1.9      0.076   \n",
       "\n",
       "   free sulfur dioxide  total sulfur dioxide  density    pH  sulphates  \\\n",
       "0                 11.0                  34.0   0.9978  3.51       0.56   \n",
       "1                 25.0                  67.0   0.9968  3.20       0.68   \n",
       "2                 15.0                  54.0   0.9970  3.26       0.65   \n",
       "3                 17.0                  60.0   0.9980  3.16       0.58   \n",
       "4                 11.0                  34.0   0.9978  3.51       0.56   \n",
       "\n",
       "   alcohol  quality  \n",
       "0      9.4        5  \n",
       "1      9.8        5  \n",
       "2      9.8        5  \n",
       "3      9.8        6  \n",
       "4      9.4        5  "
      ]
     },
     "execution_count": 3,
     "metadata": {},
     "output_type": "execute_result"
    }
   ],
   "source": [
    "wine.head()"
   ]
  },
  {
   "cell_type": "code",
   "execution_count": 4,
   "metadata": {},
   "outputs": [
    {
     "name": "stdout",
     "output_type": "stream",
     "text": [
      "<class 'pandas.core.frame.DataFrame'>\n",
      "RangeIndex: 1599 entries, 0 to 1598\n",
      "Data columns (total 12 columns):\n",
      "fixed acidity           1599 non-null float64\n",
      "volatile acidity        1599 non-null float64\n",
      "citric acid             1599 non-null float64\n",
      "residual sugar          1599 non-null float64\n",
      "chlorides               1599 non-null float64\n",
      "free sulfur dioxide     1599 non-null float64\n",
      "total sulfur dioxide    1599 non-null float64\n",
      "density                 1599 non-null float64\n",
      "pH                      1599 non-null float64\n",
      "sulphates               1599 non-null float64\n",
      "alcohol                 1599 non-null float64\n",
      "quality                 1599 non-null int64\n",
      "dtypes: float64(11), int64(1)\n",
      "memory usage: 150.0 KB\n"
     ]
    }
   ],
   "source": [
    "wine.info()"
   ]
  },
  {
   "cell_type": "code",
   "execution_count": 5,
   "metadata": {},
   "outputs": [
    {
     "data": {
      "text/html": [
       "<div>\n",
       "<style scoped>\n",
       "    .dataframe tbody tr th:only-of-type {\n",
       "        vertical-align: middle;\n",
       "    }\n",
       "\n",
       "    .dataframe tbody tr th {\n",
       "        vertical-align: top;\n",
       "    }\n",
       "\n",
       "    .dataframe thead th {\n",
       "        text-align: right;\n",
       "    }\n",
       "</style>\n",
       "<table border=\"1\" class=\"dataframe\">\n",
       "  <thead>\n",
       "    <tr style=\"text-align: right;\">\n",
       "      <th></th>\n",
       "      <th>fixed acidity</th>\n",
       "      <th>volatile acidity</th>\n",
       "      <th>citric acid</th>\n",
       "      <th>residual sugar</th>\n",
       "      <th>chlorides</th>\n",
       "      <th>free sulfur dioxide</th>\n",
       "      <th>total sulfur dioxide</th>\n",
       "      <th>density</th>\n",
       "      <th>pH</th>\n",
       "      <th>sulphates</th>\n",
       "      <th>alcohol</th>\n",
       "      <th>quality</th>\n",
       "    </tr>\n",
       "  </thead>\n",
       "  <tbody>\n",
       "    <tr>\n",
       "      <td>count</td>\n",
       "      <td>1599.000000</td>\n",
       "      <td>1599.000000</td>\n",
       "      <td>1599.000000</td>\n",
       "      <td>1599.000000</td>\n",
       "      <td>1599.000000</td>\n",
       "      <td>1599.000000</td>\n",
       "      <td>1599.000000</td>\n",
       "      <td>1599.000000</td>\n",
       "      <td>1599.000000</td>\n",
       "      <td>1599.000000</td>\n",
       "      <td>1599.000000</td>\n",
       "      <td>1599.000000</td>\n",
       "    </tr>\n",
       "    <tr>\n",
       "      <td>mean</td>\n",
       "      <td>8.319637</td>\n",
       "      <td>0.527821</td>\n",
       "      <td>0.270976</td>\n",
       "      <td>2.538806</td>\n",
       "      <td>0.087467</td>\n",
       "      <td>15.874922</td>\n",
       "      <td>46.467792</td>\n",
       "      <td>0.996747</td>\n",
       "      <td>3.311113</td>\n",
       "      <td>0.658149</td>\n",
       "      <td>10.422983</td>\n",
       "      <td>5.636023</td>\n",
       "    </tr>\n",
       "    <tr>\n",
       "      <td>std</td>\n",
       "      <td>1.741096</td>\n",
       "      <td>0.179060</td>\n",
       "      <td>0.194801</td>\n",
       "      <td>1.409928</td>\n",
       "      <td>0.047065</td>\n",
       "      <td>10.460157</td>\n",
       "      <td>32.895324</td>\n",
       "      <td>0.001887</td>\n",
       "      <td>0.154386</td>\n",
       "      <td>0.169507</td>\n",
       "      <td>1.065668</td>\n",
       "      <td>0.807569</td>\n",
       "    </tr>\n",
       "    <tr>\n",
       "      <td>min</td>\n",
       "      <td>4.600000</td>\n",
       "      <td>0.120000</td>\n",
       "      <td>0.000000</td>\n",
       "      <td>0.900000</td>\n",
       "      <td>0.012000</td>\n",
       "      <td>1.000000</td>\n",
       "      <td>6.000000</td>\n",
       "      <td>0.990070</td>\n",
       "      <td>2.740000</td>\n",
       "      <td>0.330000</td>\n",
       "      <td>8.400000</td>\n",
       "      <td>3.000000</td>\n",
       "    </tr>\n",
       "    <tr>\n",
       "      <td>25%</td>\n",
       "      <td>7.100000</td>\n",
       "      <td>0.390000</td>\n",
       "      <td>0.090000</td>\n",
       "      <td>1.900000</td>\n",
       "      <td>0.070000</td>\n",
       "      <td>7.000000</td>\n",
       "      <td>22.000000</td>\n",
       "      <td>0.995600</td>\n",
       "      <td>3.210000</td>\n",
       "      <td>0.550000</td>\n",
       "      <td>9.500000</td>\n",
       "      <td>5.000000</td>\n",
       "    </tr>\n",
       "    <tr>\n",
       "      <td>50%</td>\n",
       "      <td>7.900000</td>\n",
       "      <td>0.520000</td>\n",
       "      <td>0.260000</td>\n",
       "      <td>2.200000</td>\n",
       "      <td>0.079000</td>\n",
       "      <td>14.000000</td>\n",
       "      <td>38.000000</td>\n",
       "      <td>0.996750</td>\n",
       "      <td>3.310000</td>\n",
       "      <td>0.620000</td>\n",
       "      <td>10.200000</td>\n",
       "      <td>6.000000</td>\n",
       "    </tr>\n",
       "    <tr>\n",
       "      <td>75%</td>\n",
       "      <td>9.200000</td>\n",
       "      <td>0.640000</td>\n",
       "      <td>0.420000</td>\n",
       "      <td>2.600000</td>\n",
       "      <td>0.090000</td>\n",
       "      <td>21.000000</td>\n",
       "      <td>62.000000</td>\n",
       "      <td>0.997835</td>\n",
       "      <td>3.400000</td>\n",
       "      <td>0.730000</td>\n",
       "      <td>11.100000</td>\n",
       "      <td>6.000000</td>\n",
       "    </tr>\n",
       "    <tr>\n",
       "      <td>max</td>\n",
       "      <td>15.900000</td>\n",
       "      <td>1.580000</td>\n",
       "      <td>1.000000</td>\n",
       "      <td>15.500000</td>\n",
       "      <td>0.611000</td>\n",
       "      <td>72.000000</td>\n",
       "      <td>289.000000</td>\n",
       "      <td>1.003690</td>\n",
       "      <td>4.010000</td>\n",
       "      <td>2.000000</td>\n",
       "      <td>14.900000</td>\n",
       "      <td>8.000000</td>\n",
       "    </tr>\n",
       "  </tbody>\n",
       "</table>\n",
       "</div>"
      ],
      "text/plain": [
       "       fixed acidity  volatile acidity  citric acid  residual sugar  \\\n",
       "count    1599.000000       1599.000000  1599.000000     1599.000000   \n",
       "mean        8.319637          0.527821     0.270976        2.538806   \n",
       "std         1.741096          0.179060     0.194801        1.409928   \n",
       "min         4.600000          0.120000     0.000000        0.900000   \n",
       "25%         7.100000          0.390000     0.090000        1.900000   \n",
       "50%         7.900000          0.520000     0.260000        2.200000   \n",
       "75%         9.200000          0.640000     0.420000        2.600000   \n",
       "max        15.900000          1.580000     1.000000       15.500000   \n",
       "\n",
       "         chlorides  free sulfur dioxide  total sulfur dioxide      density  \\\n",
       "count  1599.000000          1599.000000           1599.000000  1599.000000   \n",
       "mean      0.087467            15.874922             46.467792     0.996747   \n",
       "std       0.047065            10.460157             32.895324     0.001887   \n",
       "min       0.012000             1.000000              6.000000     0.990070   \n",
       "25%       0.070000             7.000000             22.000000     0.995600   \n",
       "50%       0.079000            14.000000             38.000000     0.996750   \n",
       "75%       0.090000            21.000000             62.000000     0.997835   \n",
       "max       0.611000            72.000000            289.000000     1.003690   \n",
       "\n",
       "                pH    sulphates      alcohol      quality  \n",
       "count  1599.000000  1599.000000  1599.000000  1599.000000  \n",
       "mean      3.311113     0.658149    10.422983     5.636023  \n",
       "std       0.154386     0.169507     1.065668     0.807569  \n",
       "min       2.740000     0.330000     8.400000     3.000000  \n",
       "25%       3.210000     0.550000     9.500000     5.000000  \n",
       "50%       3.310000     0.620000    10.200000     6.000000  \n",
       "75%       3.400000     0.730000    11.100000     6.000000  \n",
       "max       4.010000     2.000000    14.900000     8.000000  "
      ]
     },
     "execution_count": 5,
     "metadata": {},
     "output_type": "execute_result"
    }
   ],
   "source": [
    "wine.describe()"
   ]
  },
  {
   "cell_type": "markdown",
   "metadata": {},
   "source": [
    "## Plotting histograms"
   ]
  },
  {
   "cell_type": "code",
   "execution_count": 6,
   "metadata": {
    "scrolled": true
   },
   "outputs": [
    {
     "data": {
      "image/png": "[encoded data removed]",
      "text/plain": [
       "<Figure size 1440x1080 with 12 Axes>"
      ]
     },
     "metadata": {
      "needs_background": "light"
     },
     "output_type": "display_data"
    }
   ],
   "source": [
    "wine.hist(bins=50, figsize=(20,15))\n",
    "plt.show()"
   ]
  },
  {
   "cell_type": "markdown",
   "metadata": {},
   "source": [
    "<b><u>Observations on attributes:</u></b> <br>\n",
    "\n",
    "1. Alcohol - It is slightly skewed to the right. The average values lie between 9 and 12. Modality is multimodal\n",
    "2. Chlorides - It is tail-heavy and right skewed. The maximum observations are around 0.05 to 0.10. Data capping should be done\n",
    "3. Citric acid - Almost 10% of total observations have value as 0. Unusual number of instances (~90) at 0.5 value. Modality is multimodal\n",
    "4. Density - Symmetric slope = Normal distribution\n",
    "5. Fixed acidity - Mean is 8.32 but, almost 10% of total observations are at value ~7. Modality is multimodal\n",
    "6. Free sulphur dioxide - Modality is multimodal. Distribution is right skewed with a bit long tail. Data capping should be done\n",
    "7. pH - Normal ditribution; Modality is multimodal\n",
    "8. Quality - It is the TARGET ATTRIBUTE\n",
    "9. Residual sugar - Data is right skewed with heavy tail. Data capping should be done\n",
    "10. Sulphates - Data is slightly right skewed with heavy tail. Data capping should be done\n",
    "11. Total sulphur dioxide - Distribution is right skewed with heavy tail. Data capping should be done\n",
    "12. Volatile acidity - Modality is multimodal and it is normal distribution"
   ]
  },
  {
   "cell_type": "code",
   "execution_count": 7,
   "metadata": {},
   "outputs": [],
   "source": [
    "# Calculating category for highly correlated column - Back working\n",
    "\n",
    "wine['alcohol_cat'] = np.ceil(wine['alcohol']/1.5)\n",
    "wine_alcohol_cat = wine.pop('alcohol_cat')\n",
    "alcohol_total_prop = wine_alcohol_cat.value_counts() / 1599"
   ]
  },
  {
   "cell_type": "markdown",
   "metadata": {},
   "source": [
    "## Splitting train and test set"
   ]
  },
  {
   "cell_type": "code",
   "execution_count": 8,
   "metadata": {},
   "outputs": [
    {
     "name": "stdout",
     "output_type": "stream",
     "text": [
      "Train set:  1199 \n",
      "Test set:  400 \n",
      "Total:  1599\n"
     ]
    }
   ],
   "source": [
    "# Random sampling - 75:25\n",
    "\n",
    "from sklearn.model_selection import train_test_split\n",
    "\n",
    "train_set, test_set = train_test_split(wine, test_size=0.25, random_state=21)\n",
    "\n",
    "print('Train set: ', len(train_set), '\\nTest set: ', len(test_set), '\\nTotal: ', len(wine))"
   ]
  },
  {
   "cell_type": "markdown",
   "metadata": {},
   "source": [
    "# Explore data to gain insights"
   ]
  },
  {
   "cell_type": "code",
   "execution_count": 9,
   "metadata": {},
   "outputs": [],
   "source": [
    "# Creating copy of the training set\n",
    "\n",
    "wine = train_set.copy()"
   ]
  },
  {
   "cell_type": "markdown",
   "metadata": {},
   "source": [
    "## Observing correlation"
   ]
  },
  {
   "cell_type": "code",
   "execution_count": 10,
   "metadata": {},
   "outputs": [
    {
     "data": {
      "text/html": [
       "<div>\n",
       "<style scoped>\n",
       "    .dataframe tbody tr th:only-of-type {\n",
       "        vertical-align: middle;\n",
       "    }\n",
       "\n",
       "    .dataframe tbody tr th {\n",
       "        vertical-align: top;\n",
       "    }\n",
       "\n",
       "    .dataframe thead th {\n",
       "        text-align: right;\n",
       "    }\n",
       "</style>\n",
       "<table border=\"1\" class=\"dataframe\">\n",
       "  <thead>\n",
       "    <tr style=\"text-align: right;\">\n",
       "      <th></th>\n",
       "      <th>fixed acidity</th>\n",
       "      <th>volatile acidity</th>\n",
       "      <th>citric acid</th>\n",
       "      <th>residual sugar</th>\n",
       "      <th>chlorides</th>\n",
       "      <th>free sulfur dioxide</th>\n",
       "      <th>total sulfur dioxide</th>\n",
       "      <th>density</th>\n",
       "      <th>pH</th>\n",
       "      <th>sulphates</th>\n",
       "      <th>alcohol</th>\n",
       "      <th>quality</th>\n",
       "    </tr>\n",
       "  </thead>\n",
       "  <tbody>\n",
       "    <tr>\n",
       "      <td>fixed acidity</td>\n",
       "      <td>1.000000</td>\n",
       "      <td>-0.286352</td>\n",
       "      <td>0.668225</td>\n",
       "      <td>0.092139</td>\n",
       "      <td>0.080452</td>\n",
       "      <td>-0.154098</td>\n",
       "      <td>-0.116100</td>\n",
       "      <td>0.641613</td>\n",
       "      <td>-0.682855</td>\n",
       "      <td>0.178140</td>\n",
       "      <td>-0.034342</td>\n",
       "      <td>0.133854</td>\n",
       "    </tr>\n",
       "    <tr>\n",
       "      <td>volatile acidity</td>\n",
       "      <td>-0.286352</td>\n",
       "      <td>1.000000</td>\n",
       "      <td>-0.565374</td>\n",
       "      <td>0.008651</td>\n",
       "      <td>0.075909</td>\n",
       "      <td>-0.043497</td>\n",
       "      <td>0.044787</td>\n",
       "      <td>0.016120</td>\n",
       "      <td>0.256395</td>\n",
       "      <td>-0.265059</td>\n",
       "      <td>-0.202955</td>\n",
       "      <td>-0.393233</td>\n",
       "    </tr>\n",
       "    <tr>\n",
       "      <td>citric acid</td>\n",
       "      <td>0.668225</td>\n",
       "      <td>-0.565374</td>\n",
       "      <td>1.000000</td>\n",
       "      <td>0.166936</td>\n",
       "      <td>0.196430</td>\n",
       "      <td>-0.048346</td>\n",
       "      <td>0.051629</td>\n",
       "      <td>0.355539</td>\n",
       "      <td>-0.544482</td>\n",
       "      <td>0.297193</td>\n",
       "      <td>0.125731</td>\n",
       "      <td>0.232374</td>\n",
       "    </tr>\n",
       "    <tr>\n",
       "      <td>residual sugar</td>\n",
       "      <td>0.092139</td>\n",
       "      <td>0.008651</td>\n",
       "      <td>0.166936</td>\n",
       "      <td>1.000000</td>\n",
       "      <td>0.047004</td>\n",
       "      <td>0.204179</td>\n",
       "      <td>0.225117</td>\n",
       "      <td>0.331865</td>\n",
       "      <td>-0.064486</td>\n",
       "      <td>0.001962</td>\n",
       "      <td>0.077495</td>\n",
       "      <td>0.035042</td>\n",
       "    </tr>\n",
       "    <tr>\n",
       "      <td>chlorides</td>\n",
       "      <td>0.080452</td>\n",
       "      <td>0.075909</td>\n",
       "      <td>0.196430</td>\n",
       "      <td>0.047004</td>\n",
       "      <td>1.000000</td>\n",
       "      <td>-0.001216</td>\n",
       "      <td>0.042129</td>\n",
       "      <td>0.198137</td>\n",
       "      <td>-0.251660</td>\n",
       "      <td>0.361416</td>\n",
       "      <td>-0.218088</td>\n",
       "      <td>-0.124747</td>\n",
       "    </tr>\n",
       "    <tr>\n",
       "      <td>free sulfur dioxide</td>\n",
       "      <td>-0.154098</td>\n",
       "      <td>-0.043497</td>\n",
       "      <td>-0.048346</td>\n",
       "      <td>0.204179</td>\n",
       "      <td>-0.001216</td>\n",
       "      <td>1.000000</td>\n",
       "      <td>0.667120</td>\n",
       "      <td>-0.039529</td>\n",
       "      <td>0.078831</td>\n",
       "      <td>0.064725</td>\n",
       "      <td>-0.035486</td>\n",
       "      <td>-0.032591</td>\n",
       "    </tr>\n",
       "    <tr>\n",
       "      <td>total sulfur dioxide</td>\n",
       "      <td>-0.116100</td>\n",
       "      <td>0.044787</td>\n",
       "      <td>0.051629</td>\n",
       "      <td>0.225117</td>\n",
       "      <td>0.042129</td>\n",
       "      <td>0.667120</td>\n",
       "      <td>1.000000</td>\n",
       "      <td>0.054343</td>\n",
       "      <td>-0.078248</td>\n",
       "      <td>0.059169</td>\n",
       "      <td>-0.182020</td>\n",
       "      <td>-0.166588</td>\n",
       "    </tr>\n",
       "    <tr>\n",
       "      <td>density</td>\n",
       "      <td>0.641613</td>\n",
       "      <td>0.016120</td>\n",
       "      <td>0.355539</td>\n",
       "      <td>0.331865</td>\n",
       "      <td>0.198137</td>\n",
       "      <td>-0.039529</td>\n",
       "      <td>0.054343</td>\n",
       "      <td>1.000000</td>\n",
       "      <td>-0.309683</td>\n",
       "      <td>0.159356</td>\n",
       "      <td>-0.484342</td>\n",
       "      <td>-0.165663</td>\n",
       "    </tr>\n",
       "    <tr>\n",
       "      <td>pH</td>\n",
       "      <td>-0.682855</td>\n",
       "      <td>0.256395</td>\n",
       "      <td>-0.544482</td>\n",
       "      <td>-0.064486</td>\n",
       "      <td>-0.251660</td>\n",
       "      <td>0.078831</td>\n",
       "      <td>-0.078248</td>\n",
       "      <td>-0.309683</td>\n",
       "      <td>1.000000</td>\n",
       "      <td>-0.204182</td>\n",
       "      <td>0.173914</td>\n",
       "      <td>-0.058661</td>\n",
       "    </tr>\n",
       "    <tr>\n",
       "      <td>sulphates</td>\n",
       "      <td>0.178140</td>\n",
       "      <td>-0.265059</td>\n",
       "      <td>0.297193</td>\n",
       "      <td>0.001962</td>\n",
       "      <td>0.361416</td>\n",
       "      <td>0.064725</td>\n",
       "      <td>0.059169</td>\n",
       "      <td>0.159356</td>\n",
       "      <td>-0.204182</td>\n",
       "      <td>1.000000</td>\n",
       "      <td>0.078419</td>\n",
       "      <td>0.239005</td>\n",
       "    </tr>\n",
       "    <tr>\n",
       "      <td>alcohol</td>\n",
       "      <td>-0.034342</td>\n",
       "      <td>-0.202955</td>\n",
       "      <td>0.125731</td>\n",
       "      <td>0.077495</td>\n",
       "      <td>-0.218088</td>\n",
       "      <td>-0.035486</td>\n",
       "      <td>-0.182020</td>\n",
       "      <td>-0.484342</td>\n",
       "      <td>0.173914</td>\n",
       "      <td>0.078419</td>\n",
       "      <td>1.000000</td>\n",
       "      <td>0.468382</td>\n",
       "    </tr>\n",
       "    <tr>\n",
       "      <td>quality</td>\n",
       "      <td>0.133854</td>\n",
       "      <td>-0.393233</td>\n",
       "      <td>0.232374</td>\n",
       "      <td>0.035042</td>\n",
       "      <td>-0.124747</td>\n",
       "      <td>-0.032591</td>\n",
       "      <td>-0.166588</td>\n",
       "      <td>-0.165663</td>\n",
       "      <td>-0.058661</td>\n",
       "      <td>0.239005</td>\n",
       "      <td>0.468382</td>\n",
       "      <td>1.000000</td>\n",
       "    </tr>\n",
       "  </tbody>\n",
       "</table>\n",
       "</div>"
      ],
      "text/plain": [
       "                      fixed acidity  volatile acidity  citric acid  \\\n",
       "fixed acidity              1.000000         -0.286352     0.668225   \n",
       "volatile acidity          -0.286352          1.000000    -0.565374   \n",
       "citric acid                0.668225         -0.565374     1.000000   \n",
       "residual sugar             0.092139          0.008651     0.166936   \n",
       "chlorides                  0.080452          0.075909     0.196430   \n",
       "free sulfur dioxide       -0.154098         -0.043497    -0.048346   \n",
       "total sulfur dioxide      -0.116100          0.044787     0.051629   \n",
       "density                    0.641613          0.016120     0.355539   \n",
       "pH                        -0.682855          0.256395    -0.544482   \n",
       "sulphates                  0.178140         -0.265059     0.297193   \n",
       "alcohol                   -0.034342         -0.202955     0.125731   \n",
       "quality                    0.133854         -0.393233     0.232374   \n",
       "\n",
       "                      residual sugar  chlorides  free sulfur dioxide  \\\n",
       "fixed acidity               0.092139   0.080452            -0.154098   \n",
       "volatile acidity            0.008651   0.075909            -0.043497   \n",
       "citric acid                 0.166936   0.196430            -0.048346   \n",
       "residual sugar              1.000000   0.047004             0.204179   \n",
       "chlorides                   0.047004   1.000000            -0.001216   \n",
       "free sulfur dioxide         0.204179  -0.001216             1.000000   \n",
       "total sulfur dioxide        0.225117   0.042129             0.667120   \n",
       "density                     0.331865   0.198137            -0.039529   \n",
       "pH                         -0.064486  -0.251660             0.078831   \n",
       "sulphates                   0.001962   0.361416             0.064725   \n",
       "alcohol                     0.077495  -0.218088            -0.035486   \n",
       "quality                     0.035042  -0.124747            -0.032591   \n",
       "\n",
       "                      total sulfur dioxide   density        pH  sulphates  \\\n",
       "fixed acidity                    -0.116100  0.641613 -0.682855   0.178140   \n",
       "volatile acidity                  0.044787  0.016120  0.256395  -0.265059   \n",
       "citric acid                       0.051629  0.355539 -0.544482   0.297193   \n",
       "residual sugar                    0.225117  0.331865 -0.064486   0.001962   \n",
       "chlorides                         0.042129  0.198137 -0.251660   0.361416   \n",
       "free sulfur dioxide               0.667120 -0.039529  0.078831   0.064725   \n",
       "total sulfur dioxide              1.000000  0.054343 -0.078248   0.059169   \n",
       "density                           0.054343  1.000000 -0.309683   0.159356   \n",
       "pH                               -0.078248 -0.309683  1.000000  -0.204182   \n",
       "sulphates                         0.059169  0.159356 -0.204182   1.000000   \n",
       "alcohol                          -0.182020 -0.484342  0.173914   0.078419   \n",
       "quality                          -0.166588 -0.165663 -0.058661   0.239005   \n",
       "\n",
       "                       alcohol   quality  \n",
       "fixed acidity        -0.034342  0.133854  \n",
       "volatile acidity     -0.202955 -0.393233  \n",
       "citric acid           0.125731  0.232374  \n",
       "residual sugar        0.077495  0.035042  \n",
       "chlorides            -0.218088 -0.124747  \n",
       "free sulfur dioxide  -0.035486 -0.032591  \n",
       "total sulfur dioxide -0.182020 -0.166588  \n",
       "density              -0.484342 -0.165663  \n",
       "pH                    0.173914 -0.058661  \n",
       "sulphates             0.078419  0.239005  \n",
       "alcohol               1.000000  0.468382  \n",
       "quality               0.468382  1.000000  "
      ]
     },
     "execution_count": 10,
     "metadata": {},
     "output_type": "execute_result"
    }
   ],
   "source": [
    "# Identifying correlation - Matrix\n",
    "\n",
    "wine_corr = wine.corr()\n",
    "wine_corr"
   ]
  },
  {
   "cell_type": "code",
   "execution_count": 11,
   "metadata": {},
   "outputs": [
    {
     "data": {
      "text/plain": [
       "quality                 1.000000\n",
       "alcohol                 0.468382\n",
       "sulphates               0.239005\n",
       "citric acid             0.232374\n",
       "fixed acidity           0.133854\n",
       "residual sugar          0.035042\n",
       "free sulfur dioxide    -0.032591\n",
       "pH                     -0.058661\n",
       "chlorides              -0.124747\n",
       "density                -0.165663\n",
       "total sulfur dioxide   -0.166588\n",
       "volatile acidity       -0.393233\n",
       "Name: quality, dtype: float64"
      ]
     },
     "execution_count": 11,
     "metadata": {},
     "output_type": "execute_result"
    }
   ],
   "source": [
    "wine_corr['quality'].sort_values(ascending=False)"
   ]
  },
  {
   "cell_type": "markdown",
   "metadata": {},
   "source": [
    "<b><u>Observations on Correlation:</u></b>\n",
    "\n",
    "1. Alcohol has highest positive correlation with target attribute\n",
    "2. Volatile acidity has highest negative correlation with target attribute"
   ]
  },
  {
   "cell_type": "code",
   "execution_count": 12,
   "metadata": {
    "scrolled": true
   },
   "outputs": [
    {
     "data": {
      "image/png": "[encoded data removed]",
      "text/plain": [
       "<Figure size 1080x720 with 25 Axes>"
      ]
     },
     "metadata": {
      "needs_background": "light"
     },
     "output_type": "display_data"
    }
   ],
   "source": [
    "# Identifying correlation - Charts\n",
    "\n",
    "from pandas.plotting import scatter_matrix\n",
    "\n",
    "scatter_matrix(wine[['quality', 'alcohol', 'sulphates', 'citric acid', 'volatile acidity']], figsize=(15,10))\n",
    "plt.show()"
   ]
  },
  {
   "cell_type": "code",
   "execution_count": 13,
   "metadata": {},
   "outputs": [
    {
     "data": {
      "text/html": [
       "<div>\n",
       "<style scoped>\n",
       "    .dataframe tbody tr th:only-of-type {\n",
       "        vertical-align: middle;\n",
       "    }\n",
       "\n",
       "    .dataframe tbody tr th {\n",
       "        vertical-align: top;\n",
       "    }\n",
       "\n",
       "    .dataframe thead th {\n",
       "        text-align: right;\n",
       "    }\n",
       "</style>\n",
       "<table border=\"1\" class=\"dataframe\">\n",
       "  <thead>\n",
       "    <tr style=\"text-align: right;\">\n",
       "      <th></th>\n",
       "      <th>Overall</th>\n",
       "      <th>Random</th>\n",
       "      <th>Random %</th>\n",
       "    </tr>\n",
       "  </thead>\n",
       "  <tbody>\n",
       "    <tr>\n",
       "      <td>6.0</td>\n",
       "      <td>0.023139</td>\n",
       "      <td>0.021685</td>\n",
       "      <td>-6.286771</td>\n",
       "    </tr>\n",
       "    <tr>\n",
       "      <td>7.0</td>\n",
       "      <td>0.591620</td>\n",
       "      <td>0.604671</td>\n",
       "      <td>2.205943</td>\n",
       "    </tr>\n",
       "    <tr>\n",
       "      <td>8.0</td>\n",
       "      <td>0.297061</td>\n",
       "      <td>0.294412</td>\n",
       "      <td>-0.891620</td>\n",
       "    </tr>\n",
       "    <tr>\n",
       "      <td>9.0</td>\n",
       "      <td>0.080050</td>\n",
       "      <td>0.070058</td>\n",
       "      <td>-12.481756</td>\n",
       "    </tr>\n",
       "    <tr>\n",
       "      <td>10.0</td>\n",
       "      <td>0.008130</td>\n",
       "      <td>0.009174</td>\n",
       "      <td>12.844037</td>\n",
       "    </tr>\n",
       "  </tbody>\n",
       "</table>\n",
       "</div>"
      ],
      "text/plain": [
       "       Overall    Random   Random %\n",
       "6.0   0.023139  0.021685  -6.286771\n",
       "7.0   0.591620  0.604671   2.205943\n",
       "8.0   0.297061  0.294412  -0.891620\n",
       "9.0   0.080050  0.070058 -12.481756\n",
       "10.0  0.008130  0.009174  12.844037"
      ]
     },
     "execution_count": 13,
     "metadata": {},
     "output_type": "execute_result"
    }
   ],
   "source": [
    "# Checking proportion of each category of ALCOHOL in total set as well in training set\n",
    "\n",
    "# Creating a discrete attribute\n",
    "\n",
    "wine['alcohol_cat'] = np.ceil(wine['alcohol']/1.5)\n",
    "\n",
    "# Checking training set proportion\n",
    "\n",
    "alcohol_train_prop = wine['alcohol_cat'].value_counts() / len(wine) \n",
    "\n",
    "# Preparing a Data Frame\n",
    "\n",
    "compare_prop = pd.DataFrame({'Overall': alcohol_total_prop,\n",
    "                            'Random': alcohol_train_prop}).sort_index()\n",
    "\n",
    "# Adding a column to the Data Frame\n",
    "\n",
    "compare_prop['Random %'] = ((compare_prop['Random'] / compare_prop['Overall'])-1)*100\n",
    "\n",
    "# Removing additional column from the training set\n",
    "\n",
    "wine.drop('alcohol_cat', axis=1, inplace=True) \n",
    "\n",
    "compare_prop"
   ]
  },
  {
   "cell_type": "markdown",
   "metadata": {},
   "source": [
    "**Note:** As the proportion of each category of ALCOHOL attribute in random sample is significantly representative of their proportion in total dataset, random sampling is considered for the estimation exercise."
   ]
  },
  {
   "cell_type": "markdown",
   "metadata": {},
   "source": [
    "## Feature combination(s)"
   ]
  },
  {
   "cell_type": "code",
   "execution_count": 14,
   "metadata": {},
   "outputs": [
    {
     "data": {
      "text/plain": [
       "quality                   1.000000\n",
       "alcohol                   0.468382\n",
       "sulphates                 0.239005\n",
       "citric acid               0.232374\n",
       "free sulfur proportion    0.200344\n",
       "fixed acidity             0.133854\n",
       "residual sugar            0.035042\n",
       "free sulfur dioxide      -0.032591\n",
       "pH                       -0.058661\n",
       "chlorides                -0.124747\n",
       "density                  -0.165663\n",
       "total sulfur dioxide     -0.166588\n",
       "volatile acidity         -0.393233\n",
       "Name: quality, dtype: float64"
      ]
     },
     "execution_count": 14,
     "metadata": {},
     "output_type": "execute_result"
    }
   ],
   "source": [
    "# Expermenting with feature combination - Free sulfur dioxide to Total sulfur dioxide\n",
    "\n",
    "wine['free sulfur proportion'] = wine['free sulfur dioxide'] / wine['total sulfur dioxide']\n",
    "\n",
    "# Checking correlation again\n",
    "\n",
    "corr_matrix = wine.corr()\n",
    "corr_matrix['quality'].sort_values(ascending=False)"
   ]
  },
  {
   "cell_type": "markdown",
   "metadata": {},
   "source": [
    "**Note:** It is interesting to note that, the correlation of newly added 'free sulfur proportion' is quite positive; even though each of its inherent features, viz. 'free sulfur dioxide' and 'total sulfur dioxide' has negative correlation"
   ]
  },
  {
   "cell_type": "markdown",
   "metadata": {},
   "source": [
    "# Prepare the data for ML algorithms"
   ]
  },
  {
   "cell_type": "code",
   "execution_count": 15,
   "metadata": {},
   "outputs": [],
   "source": [
    "# Create dataset for learning by removing the target attribute and creating its copy as labels\n",
    "\n",
    "wine = train_set.drop('quality', axis=1)\n",
    "wine_labels = train_set['quality'].copy()"
   ]
  },
  {
   "cell_type": "code",
   "execution_count": 16,
   "metadata": {},
   "outputs": [
    {
     "name": "stdout",
     "output_type": "stream",
     "text": [
      "<class 'pandas.core.frame.DataFrame'>\n",
      "Int64Index: 1199 entries, 1195 to 969\n",
      "Data columns (total 11 columns):\n",
      "fixed acidity           1199 non-null float64\n",
      "volatile acidity        1199 non-null float64\n",
      "citric acid             1199 non-null float64\n",
      "residual sugar          1199 non-null float64\n",
      "chlorides               1199 non-null float64\n",
      "free sulfur dioxide     1199 non-null float64\n",
      "total sulfur dioxide    1199 non-null float64\n",
      "density                 1199 non-null float64\n",
      "pH                      1199 non-null float64\n",
      "sulphates               1199 non-null float64\n",
      "alcohol                 1199 non-null float64\n",
      "dtypes: float64(11)\n",
      "memory usage: 112.4 KB\n"
     ]
    }
   ],
   "source": [
    "wine.info()"
   ]
  },
  {
   "cell_type": "markdown",
   "metadata": {},
   "source": [
    "## Building Custom Transformers"
   ]
  },
  {
   "cell_type": "markdown",
   "metadata": {},
   "source": [
    "### Transformer - 1"
   ]
  },
  {
   "cell_type": "code",
   "execution_count": 17,
   "metadata": {},
   "outputs": [],
   "source": [
    "# Building a class to add one new attribute representing a ratio of two existing attributes in a DataFrame.\n",
    "# Since, it will be used inside Scikit-learn's Pipeline, the same is to be converted into NumPy array.\n",
    "# Hence, numerical indexing (Row index, Column index) is followed (instead of Column Labels).\n",
    "\n",
    "from sklearn.base import BaseEstimator, TransformerMixin\n",
    "\n",
    "class AttributesAdder(BaseEstimator, TransformerMixin):\n",
    "    def __init__(self):\n",
    "        return None\n",
    "    def fit(self, X, y=None):\n",
    "        return self\n",
    "    def transform(self, X, y=None):\n",
    "        free_sulfur_proportion = X[:,5] / X[:,6] # Input is NumPy array\n",
    "        return np.c_[X, free_sulfur_proportion] # Output is also NumPy array"
   ]
  },
  {
   "cell_type": "code",
   "execution_count": 18,
   "metadata": {},
   "outputs": [],
   "source": [
    "# Testing the custom transformer created above --> Working properly\n",
    "\n",
    "wine_extra_attributes = AttributesAdder().transform(wine.values)\n",
    "# wine_extra_attributes = pd.DataFrame(wine_extra_attributes, columns=list(wine.columns) + ['free sulfur proportion'])\n",
    "# wine_extra_attributes.head()"
   ]
  },
  {
   "cell_type": "markdown",
   "metadata": {},
   "source": [
    "### Transformer - 2"
   ]
  },
  {
   "cell_type": "code",
   "execution_count": 19,
   "metadata": {},
   "outputs": [],
   "source": [
    "# Creating a DataFrame selector function; as Scikit-learn does not handle DataFrames yet\n",
    "\n",
    "# Below code transforms the Pandas DataFrame to a NumPy array\n",
    "\n",
    "from sklearn.base import BaseEstimator, TransformerMixin\n",
    "\n",
    "class DataFrameSelector(BaseEstimator, TransformerMixin):\n",
    "    def __init__(self, attribute_names):\n",
    "        self.attribute_names = attribute_names\n",
    "    def fit(self, X, y=None):\n",
    "        return self\n",
    "    def transform(self, X):\n",
    "        return X[self.attribute_names].values"
   ]
  },
  {
   "cell_type": "markdown",
   "metadata": {},
   "source": [
    "## Feature Scaling"
   ]
  },
  {
   "cell_type": "code",
   "execution_count": 20,
   "metadata": {},
   "outputs": [
    {
     "data": {
      "text/html": [
       "<div>\n",
       "<style scoped>\n",
       "    .dataframe tbody tr th:only-of-type {\n",
       "        vertical-align: middle;\n",
       "    }\n",
       "\n",
       "    .dataframe tbody tr th {\n",
       "        vertical-align: top;\n",
       "    }\n",
       "\n",
       "    .dataframe thead th {\n",
       "        text-align: right;\n",
       "    }\n",
       "</style>\n",
       "<table border=\"1\" class=\"dataframe\">\n",
       "  <thead>\n",
       "    <tr style=\"text-align: right;\">\n",
       "      <th></th>\n",
       "      <th>fixed acidity</th>\n",
       "      <th>volatile acidity</th>\n",
       "      <th>citric acid</th>\n",
       "      <th>residual sugar</th>\n",
       "      <th>chlorides</th>\n",
       "      <th>free sulfur dioxide</th>\n",
       "      <th>total sulfur dioxide</th>\n",
       "      <th>density</th>\n",
       "      <th>pH</th>\n",
       "      <th>sulphates</th>\n",
       "      <th>alcohol</th>\n",
       "      <th>free sulfur proportion</th>\n",
       "    </tr>\n",
       "  </thead>\n",
       "  <tbody>\n",
       "    <tr>\n",
       "      <td>0</td>\n",
       "      <td>-1.224052</td>\n",
       "      <td>-0.544010</td>\n",
       "      <td>-0.273094</td>\n",
       "      <td>-0.546220</td>\n",
       "      <td>-0.204928</td>\n",
       "      <td>0.479138</td>\n",
       "      <td>0.270708</td>\n",
       "      <td>-0.223744</td>\n",
       "      <td>1.359412</td>\n",
       "      <td>-0.340738</td>\n",
       "      <td>-0.858736</td>\n",
       "      <td>-0.039493</td>\n",
       "    </tr>\n",
       "    <tr>\n",
       "      <td>1</td>\n",
       "      <td>-0.935249</td>\n",
       "      <td>-0.600175</td>\n",
       "      <td>-0.020713</td>\n",
       "      <td>4.565038</td>\n",
       "      <td>-0.416073</td>\n",
       "      <td>0.761209</td>\n",
       "      <td>2.994405</td>\n",
       "      <td>-1.064367</td>\n",
       "      <td>-0.964363</td>\n",
       "      <td>-0.512252</td>\n",
       "      <td>0.845549</td>\n",
       "      <td>-1.404449</td>\n",
       "    </tr>\n",
       "    <tr>\n",
       "      <td>2</td>\n",
       "      <td>-0.011080</td>\n",
       "      <td>0.410789</td>\n",
       "      <td>-0.121665</td>\n",
       "      <td>-0.245558</td>\n",
       "      <td>0.639650</td>\n",
       "      <td>-0.649149</td>\n",
       "      <td>-0.262189</td>\n",
       "      <td>-0.317146</td>\n",
       "      <td>-1.028913</td>\n",
       "      <td>-0.740937</td>\n",
       "      <td>-0.574689</td>\n",
       "      <td>-0.925517</td>\n",
       "    </tr>\n",
       "    <tr>\n",
       "      <td>3</td>\n",
       "      <td>2.357104</td>\n",
       "      <td>-0.993327</td>\n",
       "      <td>1.089768</td>\n",
       "      <td>0.055105</td>\n",
       "      <td>-0.183814</td>\n",
       "      <td>1.043281</td>\n",
       "      <td>0.655578</td>\n",
       "      <td>1.462997</td>\n",
       "      <td>-1.222561</td>\n",
       "      <td>0.516829</td>\n",
       "      <td>-0.006594</td>\n",
       "      <td>0.065069</td>\n",
       "    </tr>\n",
       "    <tr>\n",
       "      <td>4</td>\n",
       "      <td>-1.108531</td>\n",
       "      <td>-0.319351</td>\n",
       "      <td>0.635480</td>\n",
       "      <td>-0.095226</td>\n",
       "      <td>-0.352730</td>\n",
       "      <td>-0.743173</td>\n",
       "      <td>-0.824692</td>\n",
       "      <td>-0.240226</td>\n",
       "      <td>1.617609</td>\n",
       "      <td>0.402487</td>\n",
       "      <td>0.182771</td>\n",
       "      <td>0.255848</td>\n",
       "    </tr>\n",
       "    <tr>\n",
       "      <td>...</td>\n",
       "      <td>...</td>\n",
       "      <td>...</td>\n",
       "      <td>...</td>\n",
       "      <td>...</td>\n",
       "      <td>...</td>\n",
       "      <td>...</td>\n",
       "      <td>...</td>\n",
       "      <td>...</td>\n",
       "      <td>...</td>\n",
       "      <td>...</td>\n",
       "      <td>...</td>\n",
       "      <td>...</td>\n",
       "    </tr>\n",
       "    <tr>\n",
       "      <td>1194</td>\n",
       "      <td>1.144131</td>\n",
       "      <td>-1.049492</td>\n",
       "      <td>1.241197</td>\n",
       "      <td>0.205436</td>\n",
       "      <td>1.505343</td>\n",
       "      <td>-0.085006</td>\n",
       "      <td>0.833210</td>\n",
       "      <td>1.682768</td>\n",
       "      <td>-0.835265</td>\n",
       "      <td>-0.112054</td>\n",
       "      <td>-0.953419</td>\n",
       "      <td>-1.161790</td>\n",
       "    </tr>\n",
       "    <tr>\n",
       "      <td>1195</td>\n",
       "      <td>-1.108531</td>\n",
       "      <td>-0.712504</td>\n",
       "      <td>-0.222618</td>\n",
       "      <td>-0.696551</td>\n",
       "      <td>-0.458302</td>\n",
       "      <td>-1.025245</td>\n",
       "      <td>-1.031930</td>\n",
       "      <td>-0.514940</td>\n",
       "      <td>0.197524</td>\n",
       "      <td>-0.569423</td>\n",
       "      <td>-1.142784</td>\n",
       "      <td>0.227720</td>\n",
       "    </tr>\n",
       "    <tr>\n",
       "      <td>1196</td>\n",
       "      <td>0.682047</td>\n",
       "      <td>0.242295</td>\n",
       "      <td>-0.020713</td>\n",
       "      <td>-0.170392</td>\n",
       "      <td>-0.120470</td>\n",
       "      <td>0.667185</td>\n",
       "      <td>2.875983</td>\n",
       "      <td>0.594902</td>\n",
       "      <td>-0.254321</td>\n",
       "      <td>-0.626594</td>\n",
       "      <td>-0.953419</td>\n",
       "      <td>-1.420097</td>\n",
       "    </tr>\n",
       "    <tr>\n",
       "      <td>1197</td>\n",
       "      <td>-0.299883</td>\n",
       "      <td>1.618328</td>\n",
       "      <td>-1.333098</td>\n",
       "      <td>0.055105</td>\n",
       "      <td>-0.289386</td>\n",
       "      <td>3.017782</td>\n",
       "      <td>1.277291</td>\n",
       "      <td>-0.289675</td>\n",
       "      <td>0.455721</td>\n",
       "      <td>-0.226396</td>\n",
       "      <td>0.372136</td>\n",
       "      <td>0.975918</td>\n",
       "    </tr>\n",
       "    <tr>\n",
       "      <td>1198</td>\n",
       "      <td>-0.935249</td>\n",
       "      <td>0.186130</td>\n",
       "      <td>-0.929287</td>\n",
       "      <td>0.280601</td>\n",
       "      <td>-0.183814</td>\n",
       "      <td>-0.837197</td>\n",
       "      <td>-0.735876</td>\n",
       "      <td>-0.025950</td>\n",
       "      <td>0.972116</td>\n",
       "      <td>-0.283567</td>\n",
       "      <td>-0.195959</td>\n",
       "      <td>-0.403875</td>\n",
       "    </tr>\n",
       "  </tbody>\n",
       "</table>\n",
       "<p>1199 rows × 12 columns</p>\n",
       "</div>"
      ],
      "text/plain": [
       "      fixed acidity  volatile acidity  citric acid  residual sugar  chlorides  \\\n",
       "0         -1.224052         -0.544010    -0.273094       -0.546220  -0.204928   \n",
       "1         -0.935249         -0.600175    -0.020713        4.565038  -0.416073   \n",
       "2         -0.011080          0.410789    -0.121665       -0.245558   0.639650   \n",
       "3          2.357104         -0.993327     1.089768        0.055105  -0.183814   \n",
       "4         -1.108531         -0.319351     0.635480       -0.095226  -0.352730   \n",
       "...             ...               ...          ...             ...        ...   \n",
       "1194       1.144131         -1.049492     1.241197        0.205436   1.505343   \n",
       "1195      -1.108531         -0.712504    -0.222618       -0.696551  -0.458302   \n",
       "1196       0.682047          0.242295    -0.020713       -0.170392  -0.120470   \n",
       "1197      -0.299883          1.618328    -1.333098        0.055105  -0.289386   \n",
       "1198      -0.935249          0.186130    -0.929287        0.280601  -0.183814   \n",
       "\n",
       "      free sulfur dioxide  total sulfur dioxide   density        pH  \\\n",
       "0                0.479138              0.270708 -0.223744  1.359412   \n",
       "1                0.761209              2.994405 -1.064367 -0.964363   \n",
       "2               -0.649149             -0.262189 -0.317146 -1.028913   \n",
       "3                1.043281              0.655578  1.462997 -1.222561   \n",
       "4               -0.743173             -0.824692 -0.240226  1.617609   \n",
       "...                   ...                   ...       ...       ...   \n",
       "1194            -0.085006              0.833210  1.682768 -0.835265   \n",
       "1195            -1.025245             -1.031930 -0.514940  0.197524   \n",
       "1196             0.667185              2.875983  0.594902 -0.254321   \n",
       "1197             3.017782              1.277291 -0.289675  0.455721   \n",
       "1198            -0.837197             -0.735876 -0.025950  0.972116   \n",
       "\n",
       "      sulphates   alcohol  free sulfur proportion  \n",
       "0     -0.340738 -0.858736               -0.039493  \n",
       "1     -0.512252  0.845549               -1.404449  \n",
       "2     -0.740937 -0.574689               -0.925517  \n",
       "3      0.516829 -0.006594                0.065069  \n",
       "4      0.402487  0.182771                0.255848  \n",
       "...         ...       ...                     ...  \n",
       "1194  -0.112054 -0.953419               -1.161790  \n",
       "1195  -0.569423 -1.142784                0.227720  \n",
       "1196  -0.626594 -0.953419               -1.420097  \n",
       "1197  -0.226396  0.372136                0.975918  \n",
       "1198  -0.283567 -0.195959               -0.403875  \n",
       "\n",
       "[1199 rows x 12 columns]"
      ]
     },
     "execution_count": 20,
     "metadata": {},
     "output_type": "execute_result"
    }
   ],
   "source": [
    "# Testing Standard Scaler feature\n",
    "\n",
    "from sklearn.preprocessing import StandardScaler\n",
    "\n",
    "x = StandardScaler().fit(wine_extra_attributes)\n",
    "x = x.transform(wine_extra_attributes)\n",
    "\n",
    "x = pd.DataFrame(x, columns=list(wine.columns) + ['free sulfur proportion'])\n",
    "x"
   ]
  },
  {
   "cell_type": "markdown",
   "metadata": {},
   "source": [
    "## Building a Pipeline"
   ]
  },
  {
   "cell_type": "code",
   "execution_count": 21,
   "metadata": {},
   "outputs": [],
   "source": [
    "from sklearn.pipeline import Pipeline\n",
    "\n",
    "full_pipeline = Pipeline([\n",
    "    ('selector', DataFrameSelector(list(wine))),\n",
    "    ('attribs_adder', AttributesAdder()),\n",
    "    ('std_scaler', StandardScaler()),\n",
    "])"
   ]
  },
  {
   "cell_type": "code",
   "execution_count": 22,
   "metadata": {},
   "outputs": [],
   "source": [
    "# Preparing the Training set by transforming it using a Pipeline\n",
    "\n",
    "wine_prepared = full_pipeline.fit_transform(wine)\n",
    "# wine_prepared = pd.DataFrame(wine_prepared, columns=list(wine.columns) + ['free sulfur proportion'])\n",
    "# wine_prepared.head()"
   ]
  },
  {
   "cell_type": "markdown",
   "metadata": {},
   "source": [
    "# Explore & train multiple ML models and select the best ones"
   ]
  },
  {
   "cell_type": "markdown",
   "metadata": {},
   "source": [
    "## Model - 1: Linear Regression"
   ]
  },
  {
   "cell_type": "code",
   "execution_count": 23,
   "metadata": {},
   "outputs": [
    {
     "data": {
      "text/plain": [
       "LinearRegression(copy_X=True, fit_intercept=True, n_jobs=None, normalize=False)"
      ]
     },
     "execution_count": 23,
     "metadata": {},
     "output_type": "execute_result"
    }
   ],
   "source": [
    "# Training the model\n",
    "\n",
    "from sklearn.linear_model import LinearRegression\n",
    "\n",
    "lin_reg = LinearRegression()\n",
    "lin_reg.fit(wine_prepared, wine_labels)"
   ]
  },
  {
   "cell_type": "code",
   "execution_count": 24,
   "metadata": {},
   "outputs": [],
   "source": [
    "# Making predictions on training set\n",
    "\n",
    "wine_predictions = lin_reg.predict(wine_prepared)"
   ]
  },
  {
   "cell_type": "code",
   "execution_count": 25,
   "metadata": {},
   "outputs": [
    {
     "data": {
      "text/plain": [
       "0.65039018471482"
      ]
     },
     "execution_count": 25,
     "metadata": {},
     "output_type": "execute_result"
    }
   ],
   "source": [
    "# Evaluating performance using RMSE\n",
    "\n",
    "from sklearn.metrics import mean_squared_error\n",
    "\n",
    "lin_mse = mean_squared_error(wine_labels, wine_predictions)\n",
    "lin_rmse = np.sqrt(lin_mse)\n",
    "lin_rmse"
   ]
  },
  {
   "cell_type": "code",
   "execution_count": 26,
   "metadata": {},
   "outputs": [
    {
     "data": {
      "text/plain": [
       "21.679672823827335"
      ]
     },
     "execution_count": 26,
     "metadata": {},
     "output_type": "execute_result"
    }
   ],
   "source": [
    "lin_rmse / 3 * 100 # Proportion of error to the normal range of quality ---> 3 to 8"
   ]
  },
  {
   "cell_type": "code",
   "execution_count": 27,
   "metadata": {},
   "outputs": [
    {
     "name": "stdout",
     "output_type": "stream",
     "text": [
      "Scores: [0.6554289  0.64610213 0.69746554 0.65921635 0.66260185 0.65199393\n",
      " 0.64384265 0.68513514 0.64063603 0.67043352]\n",
      "Mean Score 0.6612856025430214\n",
      "Standard Deviation of Scores 0.017462309876527717\n"
     ]
    }
   ],
   "source": [
    "# Evaluating performance using Cross Validation\n",
    "\n",
    "from sklearn.model_selection import cross_val_score\n",
    "\n",
    "lin_scores = cross_val_score(lin_reg, wine_prepared, wine_labels, scoring='neg_mean_squared_error', cv=10)\n",
    "\n",
    "lin_rmse_scores = np.sqrt(-lin_scores)\n",
    "\n",
    "print('Scores:', lin_rmse_scores)\n",
    "print('Mean Score', lin_rmse_scores.mean())\n",
    "print('Standard Deviation of Scores', lin_rmse_scores.std())"
   ]
  },
  {
   "cell_type": "markdown",
   "metadata": {},
   "source": [
    "## Model - 2: Decision Tree"
   ]
  },
  {
   "cell_type": "code",
   "execution_count": 28,
   "metadata": {},
   "outputs": [
    {
     "data": {
      "text/plain": [
       "DecisionTreeRegressor(ccp_alpha=0.0, criterion='mse', max_depth=None,\n",
       "                      max_features=None, max_leaf_nodes=None,\n",
       "                      min_impurity_decrease=0.0, min_impurity_split=None,\n",
       "                      min_samples_leaf=1, min_samples_split=2,\n",
       "                      min_weight_fraction_leaf=0.0, presort='deprecated',\n",
       "                      random_state=21, splitter='best')"
      ]
     },
     "execution_count": 28,
     "metadata": {},
     "output_type": "execute_result"
    }
   ],
   "source": [
    "# Training the model\n",
    "\n",
    "from sklearn.tree import DecisionTreeRegressor\n",
    "\n",
    "tree_reg = DecisionTreeRegressor(random_state=21)\n",
    "tree_reg.fit(wine_prepared, wine_labels)"
   ]
  },
  {
   "cell_type": "code",
   "execution_count": 29,
   "metadata": {},
   "outputs": [],
   "source": [
    "# Making predictions on training set\n",
    "\n",
    "wine_predictions = tree_reg.predict(wine_prepared)"
   ]
  },
  {
   "cell_type": "code",
   "execution_count": 30,
   "metadata": {},
   "outputs": [
    {
     "data": {
      "text/plain": [
       "0.0"
      ]
     },
     "execution_count": 30,
     "metadata": {},
     "output_type": "execute_result"
    }
   ],
   "source": [
    "# Evaluating performance using RMSE\n",
    "\n",
    "from sklearn.metrics import mean_squared_error\n",
    "\n",
    "tree_mse = mean_squared_error(wine_labels, wine_predictions)\n",
    "tree_rmse = np.sqrt(tree_mse)\n",
    "tree_rmse"
   ]
  },
  {
   "cell_type": "code",
   "execution_count": 31,
   "metadata": {},
   "outputs": [
    {
     "name": "stdout",
     "output_type": "stream",
     "text": [
      "Scores: [0.79056942 0.6770032  0.81649658 0.90369611 0.79056942 0.80104099\n",
      " 0.89442719 0.80104099 0.90829511 0.74472938]\n",
      "Mean Score 0.8127868381035119\n",
      "Standard Deviation of Scores 0.06956824476472645\n"
     ]
    }
   ],
   "source": [
    "# Evaluating performance using Cross Validation\n",
    "\n",
    "from sklearn.model_selection import cross_val_score\n",
    "\n",
    "tree_scores = cross_val_score(tree_reg, wine_prepared, wine_labels, scoring='neg_mean_squared_error', cv=10)\n",
    "\n",
    "tree_rmse_scores = np.sqrt(-tree_scores) \n",
    "\n",
    "print('Scores:', tree_rmse_scores)\n",
    "print('Mean Score', tree_rmse_scores.mean())\n",
    "print('Standard Deviation of Scores', tree_rmse_scores.std())"
   ]
  },
  {
   "cell_type": "markdown",
   "metadata": {},
   "source": [
    "## Model - 3: Random Forests"
   ]
  },
  {
   "cell_type": "code",
   "execution_count": 32,
   "metadata": {},
   "outputs": [
    {
     "data": {
      "text/plain": [
       "RandomForestRegressor(bootstrap=True, ccp_alpha=0.0, criterion='mse',\n",
       "                      max_depth=None, max_features='auto', max_leaf_nodes=None,\n",
       "                      max_samples=None, min_impurity_decrease=0.0,\n",
       "                      min_impurity_split=None, min_samples_leaf=1,\n",
       "                      min_samples_split=2, min_weight_fraction_leaf=0.0,\n",
       "                      n_estimators=100, n_jobs=None, oob_score=False,\n",
       "                      random_state=21, verbose=0, warm_start=False)"
      ]
     },
     "execution_count": 32,
     "metadata": {},
     "output_type": "execute_result"
    }
   ],
   "source": [
    "# Training the model\n",
    "\n",
    "from sklearn.ensemble import RandomForestRegressor\n",
    "\n",
    "forest_reg = RandomForestRegressor(random_state=21)\n",
    "forest_reg.fit(wine_prepared, wine_labels)"
   ]
  },
  {
   "cell_type": "code",
   "execution_count": 33,
   "metadata": {},
   "outputs": [],
   "source": [
    "# Making predictions on training set\n",
    "\n",
    "wine_predictions = forest_reg.predict(wine_prepared)"
   ]
  },
  {
   "cell_type": "code",
   "execution_count": 34,
   "metadata": {},
   "outputs": [
    {
     "data": {
      "text/plain": [
       "0.21737707789690205"
      ]
     },
     "execution_count": 34,
     "metadata": {},
     "output_type": "execute_result"
    }
   ],
   "source": [
    "# Evaluating performance using RMSE\n",
    "\n",
    "from sklearn.metrics import mean_squared_error\n",
    "\n",
    "forest_mse = mean_squared_error(wine_labels, wine_predictions)\n",
    "forest_rmse = np.sqrt(forest_mse)\n",
    "forest_rmse"
   ]
  },
  {
   "cell_type": "code",
   "execution_count": 35,
   "metadata": {},
   "outputs": [
    {
     "name": "stdout",
     "output_type": "stream",
     "text": [
      "Scores: [0.60008194 0.53819916 0.61187349 0.63799948 0.54604792 0.59947268\n",
      " 0.64636161 0.61824415 0.61955764 0.58277228]\n",
      "Mean Score 0.6000610352804484\n",
      "Standard Deviation of Scores 0.03387757684171232\n"
     ]
    }
   ],
   "source": [
    "# Evaluating performance using Cross Validation\n",
    "\n",
    "from sklearn.model_selection import cross_val_score\n",
    "\n",
    "forest_reg_scores = cross_val_score(forest_reg, wine_prepared, wine_labels, scoring='neg_mean_squared_error', cv=10)\n",
    "\n",
    "forest_rmse_scores = np.sqrt(-forest_reg_scores)\n",
    "\n",
    "print('Scores:', forest_rmse_scores)\n",
    "print('Mean Score', forest_rmse_scores.mean())\n",
    "print('Standard Deviation of Scores', forest_rmse_scores.std())"
   ]
  },
  {
   "cell_type": "markdown",
   "metadata": {},
   "source": [
    "## Model - 4: XGBoost"
   ]
  },
  {
   "cell_type": "code",
   "execution_count": 36,
   "metadata": {},
   "outputs": [
    {
     "data": {
      "text/plain": [
       "XGBRegressor(base_score=0.5, booster='gbtree', colsample_bylevel=1,\n",
       "             colsample_bytree=1, gamma=0, learning_rate=0.1, max_delta_step=0,\n",
       "             max_depth=3, min_child_weight=1, missing=None, n_estimators=100,\n",
       "             n_jobs=1, nthread=None, objective='reg:linear', random_state=0,\n",
       "             reg_alpha=0, reg_lambda=1, scale_pos_weight=1, seed=None,\n",
       "             silent=True, subsample=1)"
      ]
     },
     "execution_count": 36,
     "metadata": {},
     "output_type": "execute_result"
    }
   ],
   "source": [
    "# Training the model\n",
    "\n",
    "from xgboost import XGBRegressor\n",
    "\n",
    "xgb_reg = XGBRegressor()\n",
    "xgb_reg.fit(wine_prepared, wine_labels)"
   ]
  },
  {
   "cell_type": "code",
   "execution_count": 37,
   "metadata": {},
   "outputs": [],
   "source": [
    "# Making predictions on training set\n",
    "\n",
    "wine_predictions = xgb_reg.predict(wine_prepared)"
   ]
  },
  {
   "cell_type": "code",
   "execution_count": 38,
   "metadata": {},
   "outputs": [
    {
     "data": {
      "text/plain": [
       "0.4962282021785791"
      ]
     },
     "execution_count": 38,
     "metadata": {},
     "output_type": "execute_result"
    }
   ],
   "source": [
    "# Evaluating performance using RMSE\n",
    "\n",
    "from sklearn.metrics import mean_squared_error\n",
    "\n",
    "xgb_mse = mean_squared_error(wine_labels, wine_predictions)\n",
    "xgb_rmse = np.sqrt(xgb_mse)\n",
    "xgb_rmse"
   ]
  },
  {
   "cell_type": "code",
   "execution_count": 39,
   "metadata": {},
   "outputs": [
    {
     "name": "stdout",
     "output_type": "stream",
     "text": [
      "Scores: [0.64604197 0.59701343 0.65681505 0.63727799 0.60505488 0.59695342\n",
      " 0.67787898 0.65362375 0.62552095 0.63223525]\n",
      "Mean Score 0.6328415670507365\n",
      "Standard Deviation of Scores 0.02574218729489857\n"
     ]
    }
   ],
   "source": [
    "# Evaluating performance using Cross Validation\n",
    "\n",
    "from sklearn.model_selection import cross_val_score\n",
    "\n",
    "xgb_reg_scores = cross_val_score(xgb_reg, wine_prepared, wine_labels, scoring='neg_mean_squared_error', cv=10)\n",
    "\n",
    "xgb_rmse_scores = np.sqrt(-xgb_reg_scores)\n",
    "\n",
    "print('Scores:', xgb_rmse_scores)\n",
    "print('Mean Score', xgb_rmse_scores.mean())\n",
    "print('Standard Deviation of Scores', xgb_rmse_scores.std())"
   ]
  },
  {
   "cell_type": "markdown",
   "metadata": {},
   "source": [
    "## Summary of scores"
   ]
  },
  {
   "cell_type": "code",
   "execution_count": 40,
   "metadata": {},
   "outputs": [],
   "source": [
    "# Custom function to aggregate scores (Average RMSE and Standard Deviation) of various ML models as Pandas DataFrame\n",
    "\n",
    "def ScoresMatrix(scores, labels):\n",
    "    means = []\n",
    "    stds = []\n",
    "    for i in scores:\n",
    "        means.append(i.mean())\n",
    "        stds.append(i.std())\n",
    "    return pd.DataFrame([means, stds], columns=labels, index=['Mean (μ)', 'Standard Deviation (σ)'])"
   ]
  },
  {
   "cell_type": "code",
   "execution_count": 41,
   "metadata": {
    "scrolled": true
   },
   "outputs": [
    {
     "data": {
      "text/html": [
       "<div>\n",
       "<style scoped>\n",
       "    .dataframe tbody tr th:only-of-type {\n",
       "        vertical-align: middle;\n",
       "    }\n",
       "\n",
       "    .dataframe tbody tr th {\n",
       "        vertical-align: top;\n",
       "    }\n",
       "\n",
       "    .dataframe thead th {\n",
       "        text-align: right;\n",
       "    }\n",
       "</style>\n",
       "<table border=\"1\" class=\"dataframe\">\n",
       "  <thead>\n",
       "    <tr style=\"text-align: right;\">\n",
       "      <th></th>\n",
       "      <th>Linear Regression</th>\n",
       "      <th>Decision Tree</th>\n",
       "      <th>Random Forest</th>\n",
       "      <th>XGBoost</th>\n",
       "    </tr>\n",
       "  </thead>\n",
       "  <tbody>\n",
       "    <tr>\n",
       "      <td>Mean (μ)</td>\n",
       "      <td>0.661286</td>\n",
       "      <td>0.812787</td>\n",
       "      <td>0.600061</td>\n",
       "      <td>0.632842</td>\n",
       "    </tr>\n",
       "    <tr>\n",
       "      <td>Standard Deviation (σ)</td>\n",
       "      <td>0.017462</td>\n",
       "      <td>0.069568</td>\n",
       "      <td>0.033878</td>\n",
       "      <td>0.025742</td>\n",
       "    </tr>\n",
       "  </tbody>\n",
       "</table>\n",
       "</div>"
      ],
      "text/plain": [
       "                        Linear Regression  Decision Tree  Random Forest  \\\n",
       "Mean (μ)                         0.661286       0.812787       0.600061   \n",
       "Standard Deviation (σ)           0.017462       0.069568       0.033878   \n",
       "\n",
       "                         XGBoost  \n",
       "Mean (μ)                0.632842  \n",
       "Standard Deviation (σ)  0.025742  "
      ]
     },
     "execution_count": 41,
     "metadata": {},
     "output_type": "execute_result"
    }
   ],
   "source": [
    "# Aggregating values and presenting scores\n",
    "\n",
    "scores = [lin_rmse_scores, tree_rmse_scores, forest_rmse_scores, xgb_rmse_scores]\n",
    "labels = ['Linear Regression', 'Decision Tree', 'Random Forest', 'XGBoost']\n",
    "\n",
    "ScoresMatrix(scores, labels)"
   ]
  },
  {
   "cell_type": "markdown",
   "metadata": {},
   "source": [
    "<b><u>Conclusion:</u> </b>Based on the above analysis, it can be concluded that the performance of *Random Forest* is best amongst all other ML models as it has lowest RMSE."
   ]
  },
  {
   "cell_type": "markdown",
   "metadata": {},
   "source": [
    "# Fine-tune the selected ML model"
   ]
  },
  {
   "cell_type": "markdown",
   "metadata": {},
   "source": [
    "## Using Grid Search"
   ]
  },
  {
   "cell_type": "code",
   "execution_count": 42,
   "metadata": {
    "collapsed": true
   },
   "outputs": [
    {
     "data": {
      "text/plain": [
       "GridSearchCV(cv=5, error_score=nan,\n",
       "             estimator=RandomForestRegressor(bootstrap=True, ccp_alpha=0.0,\n",
       "                                             criterion='mse', max_depth=None,\n",
       "                                             max_features='auto',\n",
       "                                             max_leaf_nodes=None,\n",
       "                                             max_samples=None,\n",
       "                                             min_impurity_decrease=0.0,\n",
       "                                             min_impurity_split=None,\n",
       "                                             min_samples_leaf=1,\n",
       "                                             min_samples_split=2,\n",
       "                                             min_weight_fraction_leaf=0.0,\n",
       "                                             n_estimators=100, n_jobs=None,\n",
       "                                             oob_score=False, random_state=21,\n",
       "                                             verbose=0, warm_start=False),\n",
       "             iid='deprecated', n_jobs=4,\n",
       "             param_grid=[{'max_features': [4, 8],\n",
       "                          'n_estimators': [3, 5, 9, 12, 21, 33]},\n",
       "                         {'bootstrap': [False], 'max_features': [6, 8, 12],\n",
       "                          'n_estimators': [9, 19, 37, 40]}],\n",
       "             pre_dispatch='2*n_jobs', refit=True, return_train_score=True,\n",
       "             scoring='neg_mean_squared_error', verbose=0)"
      ]
     },
     "execution_count": 42,
     "metadata": {},
     "output_type": "execute_result"
    }
   ],
   "source": [
    "from sklearn.model_selection import GridSearchCV\n",
    "\n",
    "# Creating grid of hyperparameter values of Random Forests\n",
    "\n",
    "param_grid = [{'n_estimators': [3,5,9,12,21,33], 'max_features': [4,8]}, # 6x2 = 12 combinations\n",
    "             {'bootstrap': [False], 'n_estimators': [9,19,37,40], 'max_features': [6,8,12]}] # 1x4x3 = 12 combinations.\n",
    "\n",
    "# Total combinations to try = 12 + 12 = 24 * 5 folds (cv=5 below) = 120 iterations\n",
    "grid_search = GridSearchCV(forest_reg, param_grid, cv=5, scoring='neg_mean_squared_error', n_jobs=4, return_train_score=True)\n",
    "\n",
    "grid_search.fit(wine_prepared, wine_labels)"
   ]
  },
  {
   "cell_type": "code",
   "execution_count": 43,
   "metadata": {},
   "outputs": [
    {
     "data": {
      "text/plain": [
       "{'max_features': 4, 'n_estimators': 33}"
      ]
     },
     "execution_count": 43,
     "metadata": {},
     "output_type": "execute_result"
    }
   ],
   "source": [
    "# Checking best hyperparameter combination - Grid Search\n",
    "\n",
    "grid_search.best_params_"
   ]
  },
  {
   "cell_type": "code",
   "execution_count": 44,
   "metadata": {
    "collapsed": true
   },
   "outputs": [
    {
     "name": "stdout",
     "output_type": "stream",
     "text": [
      "1) 0.7069158157491813 {'max_features': 4, 'n_estimators': 3}\n",
      "2) 0.6594699067281659 {'max_features': 4, 'n_estimators': 5}\n",
      "3) 0.6309680876674076 {'max_features': 4, 'n_estimators': 9}\n",
      "4) 0.6218188256908708 {'max_features': 4, 'n_estimators': 12}\n",
      "5) 0.613060700078386 {'max_features': 4, 'n_estimators': 21}\n",
      "6) 0.6106985092539907 {'max_features': 4, 'n_estimators': 33}\n",
      "7) 0.7116658691503321 {'max_features': 8, 'n_estimators': 3}\n",
      "8) 0.6641022505331389 {'max_features': 8, 'n_estimators': 5}\n",
      "9) 0.6399957397472579 {'max_features': 8, 'n_estimators': 9}\n",
      "10) 0.6292090758210774 {'max_features': 8, 'n_estimators': 12}\n",
      "11) 0.6226158459466742 {'max_features': 8, 'n_estimators': 21}\n",
      "12) 0.614590474927263 {'max_features': 8, 'n_estimators': 33}\n",
      "13) 0.6556104482345884 {'bootstrap': False, 'max_features': 6, 'n_estimators': 9}\n",
      "14) 0.6326652293612588 {'bootstrap': False, 'max_features': 6, 'n_estimators': 19}\n",
      "15) 0.6225675750745773 {'bootstrap': False, 'max_features': 6, 'n_estimators': 37}\n",
      "16) 0.6216900972108321 {'bootstrap': False, 'max_features': 6, 'n_estimators': 40}\n",
      "17) 0.6595439273129385 {'bootstrap': False, 'max_features': 8, 'n_estimators': 9}\n",
      "18) 0.6484390736133947 {'bootstrap': False, 'max_features': 8, 'n_estimators': 19}\n",
      "19) 0.6401313379521011 {'bootstrap': False, 'max_features': 8, 'n_estimators': 37}\n",
      "20) 0.6402842976904073 {'bootstrap': False, 'max_features': 8, 'n_estimators': 40}\n",
      "21) 0.7784246330535095 {'bootstrap': False, 'max_features': 12, 'n_estimators': 9}\n",
      "22) 0.7804446368916077 {'bootstrap': False, 'max_features': 12, 'n_estimators': 19}\n",
      "23) 0.7805893492774212 {'bootstrap': False, 'max_features': 12, 'n_estimators': 37}\n",
      "24) 0.7814009226607981 {'bootstrap': False, 'max_features': 12, 'n_estimators': 40}\n"
     ]
    }
   ],
   "source": [
    "# Checking score (RMSE) for each of the hyperparameter combinations - Grid Search\n",
    "\n",
    "counter = 1\n",
    "cvres = grid_search.cv_results_\n",
    "for mean_score, params in zip(cvres[\"mean_test_score\"], cvres[\"params\"]):\n",
    "    print(str(counter)+\")\",np.sqrt(-mean_score), params)\n",
    "    counter += 1"
   ]
  },
  {
   "cell_type": "code",
   "execution_count": 45,
   "metadata": {},
   "outputs": [
    {
     "data": {
      "text/plain": [
       "RandomForestRegressor(bootstrap=True, ccp_alpha=0.0, criterion='mse',\n",
       "                      max_depth=None, max_features=4, max_leaf_nodes=None,\n",
       "                      max_samples=None, min_impurity_decrease=0.0,\n",
       "                      min_impurity_split=None, min_samples_leaf=1,\n",
       "                      min_samples_split=2, min_weight_fraction_leaf=0.0,\n",
       "                      n_estimators=33, n_jobs=None, oob_score=False,\n",
       "                      random_state=21, verbose=0, warm_start=False)"
      ]
     },
     "execution_count": 45,
     "metadata": {},
     "output_type": "execute_result"
    }
   ],
   "source": [
    "# Checking best estimator (all paramaters yeilding best results) - Grid Search\n",
    "\n",
    "grid_search.best_estimator_"
   ]
  },
  {
   "cell_type": "code",
   "execution_count": 46,
   "metadata": {
    "collapsed": true
   },
   "outputs": [
    {
     "data": {
      "text/plain": [
       "[(0.1985193031506172, 'alcohol'),\n",
       " (0.12610226410081735, 'sulphates'),\n",
       " (0.11718215206300658, 'volatile acidity'),\n",
       " (0.08024668503294415, 'total sulfur dioxide'),\n",
       " (0.07572056579041546, 'density'),\n",
       " (0.06730338311092238, 'citric acid'),\n",
       " (0.06647582566127352, 'free sulfur proportion'),\n",
       " (0.06433893043358369, 'chlorides'),\n",
       " (0.05425595501445407, 'pH'),\n",
       " (0.0535702061180796, 'fixed acidity'),\n",
       " (0.05245991032991731, 'residual sugar'),\n",
       " (0.043824819193968745, 'free sulfur dioxide')]"
      ]
     },
     "execution_count": 46,
     "metadata": {},
     "output_type": "execute_result"
    }
   ],
   "source": [
    "# Checking the weightage of each attribute (column) in the best estimator - Grid Search\n",
    "\n",
    "grid_imp_features = grid_search.best_estimator_.feature_importances_\n",
    "\n",
    "wine_attributes = list(wine) + ['free sulfur proportion']\n",
    "\n",
    "sorted(zip(grid_imp_features, wine_attributes), reverse=True)"
   ]
  },
  {
   "cell_type": "markdown",
   "metadata": {},
   "source": [
    "## Using Randomized Search"
   ]
  },
  {
   "cell_type": "code",
   "execution_count": 47,
   "metadata": {
    "collapsed": true
   },
   "outputs": [
    {
     "data": {
      "text/plain": [
       "RandomizedSearchCV(cv=8, error_score=nan,\n",
       "                   estimator=RandomForestRegressor(bootstrap=True,\n",
       "                                                   ccp_alpha=0.0,\n",
       "                                                   criterion='mse',\n",
       "                                                   max_depth=None,\n",
       "                                                   max_features='auto',\n",
       "                                                   max_leaf_nodes=None,\n",
       "                                                   max_samples=None,\n",
       "                                                   min_impurity_decrease=0.0,\n",
       "                                                   min_impurity_split=None,\n",
       "                                                   min_samples_leaf=1,\n",
       "                                                   min_samples_split=2,\n",
       "                                                   min_weight_fraction_leaf=0.0,\n",
       "                                                   n_estimators=100,\n",
       "                                                   n_jobs=None, oob_score=Fals...\n",
       "                                                   warm_start=False),\n",
       "                   iid='deprecated', n_iter=10, n_jobs=None,\n",
       "                   param_distributions={'max_features': <scipy.stats._distn_infrastructure.rv_frozen object at 0x7fd768b52be0>,\n",
       "                                        'n_estimators': <scipy.stats._distn_infrastructure.rv_frozen object at 0x7fd768b52ba8>},\n",
       "                   pre_dispatch='2*n_jobs', random_state=21, refit=True,\n",
       "                   return_train_score=False, scoring='neg_mean_squared_error',\n",
       "                   verbose=0)"
      ]
     },
     "execution_count": 47,
     "metadata": {},
     "output_type": "execute_result"
    }
   ],
   "source": [
    "from sklearn.model_selection import RandomizedSearchCV\n",
    "from scipy.stats import randint\n",
    "\n",
    "# Defining range of values for hyperparameters of Random Forests\n",
    "\n",
    "param_distribs = {'n_estimators': randint(low=1, high=300),\n",
    "                 'max_features': randint(low=1, high=10)}\n",
    "\n",
    "rnd_search = RandomizedSearchCV(forest_reg, param_distributions=param_distribs, n_iter=10, cv=8, scoring='neg_mean_squared_error', random_state=21)\n",
    "\n",
    "rnd_search.fit(wine_prepared, wine_labels)"
   ]
  },
  {
   "cell_type": "code",
   "execution_count": 48,
   "metadata": {},
   "outputs": [
    {
     "data": {
      "text/plain": [
       "{'max_features': 3, 'n_estimators': 242}"
      ]
     },
     "execution_count": 48,
     "metadata": {},
     "output_type": "execute_result"
    }
   ],
   "source": [
    "# Checking best hyperparameter combination - Random Search\n",
    "\n",
    "rnd_search.best_params_"
   ]
  },
  {
   "cell_type": "code",
   "execution_count": 49,
   "metadata": {
    "collapsed": true
   },
   "outputs": [
    {
     "data": {
      "text/plain": [
       "RandomForestRegressor(bootstrap=True, ccp_alpha=0.0, criterion='mse',\n",
       "                      max_depth=None, max_features=3, max_leaf_nodes=None,\n",
       "                      max_samples=None, min_impurity_decrease=0.0,\n",
       "                      min_impurity_split=None, min_samples_leaf=1,\n",
       "                      min_samples_split=2, min_weight_fraction_leaf=0.0,\n",
       "                      n_estimators=242, n_jobs=None, oob_score=False,\n",
       "                      random_state=21, verbose=0, warm_start=False)"
      ]
     },
     "execution_count": 49,
     "metadata": {},
     "output_type": "execute_result"
    }
   ],
   "source": [
    "# Checking best estimator (all paramaters yeilding best results) - Random Search\n",
    "\n",
    "rnd_search.best_estimator_"
   ]
  },
  {
   "cell_type": "code",
   "execution_count": 50,
   "metadata": {
    "collapsed": true
   },
   "outputs": [
    {
     "name": "stdout",
     "output_type": "stream",
     "text": [
      "1) 0.5995233710935429 {'max_features': 9, 'n_estimators': 261}\n",
      "2) 0.6054045092110998 {'max_features': 1, 'n_estimators': 121}\n",
      "3) 0.5952889862731813 {'max_features': 4, 'n_estimators': 189}\n",
      "4) 0.5943513646170034 {'max_features': 3, 'n_estimators': 242}\n",
      "5) 0.6014470683702017 {'max_features': 9, 'n_estimators': 111}\n",
      "6) 0.6027016897731512 {'max_features': 7, 'n_estimators': 123}\n",
      "7) 0.6046890913952526 {'max_features': 1, 'n_estimators': 239}\n",
      "8) 0.5993254040872648 {'max_features': 5, 'n_estimators': 85}\n",
      "9) 0.5974948549367791 {'max_features': 5, 'n_estimators': 205}\n",
      "10) 0.6013355355198956 {'max_features': 9, 'n_estimators': 170}\n"
     ]
    }
   ],
   "source": [
    "# Checking score (RMSE) for each of the hyperparameter combinations - Random Search\n",
    "\n",
    "counter=1\n",
    "cvres = rnd_search.cv_results_\n",
    "\n",
    "for mean_score, params in zip(cvres['mean_test_score'], cvres['params']):\n",
    "    print(str(counter)+')', np.sqrt(-mean_score), params)\n",
    "    counter +=1"
   ]
  },
  {
   "cell_type": "code",
   "execution_count": 51,
   "metadata": {
    "collapsed": true
   },
   "outputs": [
    {
     "data": {
      "text/plain": [
       "[(0.1866557531284456, 'alcohol'),\n",
       " (0.13198490617773873, 'volatile acidity'),\n",
       " (0.11861773488002711, 'sulphates'),\n",
       " (0.07867040646469682, 'density'),\n",
       " (0.07595921560763076, 'total sulfur dioxide'),\n",
       " (0.06792044620152332, 'citric acid'),\n",
       " (0.06666080589873358, 'free sulfur proportion'),\n",
       " (0.06335791162600656, 'chlorides'),\n",
       " (0.05806024475167894, 'fixed acidity'),\n",
       " (0.05598297844268164, 'pH'),\n",
       " (0.0503391960195343, 'residual sugar'),\n",
       " (0.04579040080130267, 'free sulfur dioxide')]"
      ]
     },
     "execution_count": 51,
     "metadata": {},
     "output_type": "execute_result"
    }
   ],
   "source": [
    "# Checking the weightage of each attribute (column) in the best estimator - Random Search\n",
    "\n",
    "rnd_imp_features = rnd_search.best_estimator_.feature_importances_\n",
    "\n",
    "sorted(zip(rnd_imp_features, wine_attributes), reverse=True)"
   ]
  },
  {
   "cell_type": "markdown",
   "metadata": {},
   "source": [
    "## Concluding on Fine-tuned ML model"
   ]
  },
  {
   "cell_type": "markdown",
   "metadata": {},
   "source": [
    "It is evident from the above that, the score (average RMSE) from Randomized Search - *0.59435* is quite good than the score from Grid Search - 0.61069 as well as the score of the initially fitted model -  0.600061.\n",
    "\n",
    "**Therefore, the Random Forests model, with fined tuned hyperparameters as per the Randomized Search, is used for evaluting the performance on the test dataset.**"
   ]
  },
  {
   "cell_type": "markdown",
   "metadata": {},
   "source": [
    "## Evaluation of ML model on test dataset"
   ]
  },
  {
   "cell_type": "code",
   "execution_count": 52,
   "metadata": {},
   "outputs": [],
   "source": [
    "# Selecting the final ML model\n",
    "\n",
    "final_model = rnd_search.best_estimator_"
   ]
  },
  {
   "cell_type": "code",
   "execution_count": 53,
   "metadata": {},
   "outputs": [],
   "source": [
    "# Readying the predictors and creating copy of the target attribute as labels\n",
    "\n",
    "predictor_test_set = test_set.drop('quality', axis=1)\n",
    "labels_test_set = test_set['quality'].copy()"
   ]
  },
  {
   "cell_type": "code",
   "execution_count": 54,
   "metadata": {},
   "outputs": [],
   "source": [
    "# Applying pipeline on test dataset\n",
    "\n",
    "test_set_prepared = full_pipeline.transform(predictor_test_set)"
   ]
  },
  {
   "cell_type": "code",
   "execution_count": 55,
   "metadata": {},
   "outputs": [],
   "source": [
    "# Making predictions on the test dataset\n",
    "\n",
    "final_predictions = final_model.predict(test_set_prepared)"
   ]
  },
  {
   "cell_type": "code",
   "execution_count": 56,
   "metadata": {},
   "outputs": [
    {
     "data": {
      "text/plain": [
       "0.5561189433453955"
      ]
     },
     "execution_count": 56,
     "metadata": {},
     "output_type": "execute_result"
    }
   ],
   "source": [
    "# Calculating the final score (RMSE) on the test dataset\n",
    "\n",
    "final_mse = mean_squared_error(labels_test_set, final_predictions)\n",
    "final_rmse = np.sqrt(final_mse)\n",
    "final_rmse"
   ]
  },
  {
   "cell_type": "markdown",
   "metadata": {},
   "source": [
    "<div class=\"alert alert-block alert-info\" style=\"margin-top: 0px\">\n",
    "\n",
    "Project prepared by:\n",
    "\n",
    "**Dhyey Kotecha**\n",
    "\n",
    "Email: dhyeygkotecha@gmail.com\n",
    "\n",
    "(April 24, 2020)"
   ]
  }
 ],
 "metadata": {
  "kernelspec": {
   "display_name": "Python 3",
   "language": "python",
   "name": "python3"
  },
  "language_info": {
   "codemirror_mode": {
    "name": "ipython",
    "version": 3
   },
   "file_extension": ".py",
   "mimetype": "text/x-python",
   "name": "python",
   "nbconvert_exporter": "python",
   "pygments_lexer": "ipython3",
   "version": "3.6.8"
  },
  "toc": {
   "base_numbering": 1,
   "nav_menu": {},
   "number_sections": true,
   "sideBar": true,
   "skip_h1_title": false,
   "title_cell": "Table of Contents",
   "title_sidebar": "Contents",
   "toc_cell": false,
   "toc_position": {
    "height": "calc(100% - 180px)",
    "left": "10px",
    "top": "150px",
    "width": "256px"
   },
   "toc_section_display": true,
   "toc_window_display": false
  }
 },
 "nbformat": 4,
 "nbformat_minor": 2
}
